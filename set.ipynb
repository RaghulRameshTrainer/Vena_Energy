{
 "cells": [
  {
   "cell_type": "code",
   "execution_count": null,
   "id": "110c83f3",
   "metadata": {},
   "outputs": [],
   "source": [
    "'''\n",
    "set stores only the unique values\n",
    "it keep the data in an ascendeing order\n",
    "'''"
   ]
  },
  {
   "cell_type": "code",
   "execution_count": null,
   "id": "e6b1757c",
   "metadata": {},
   "outputs": [],
   "source": [
    "[]\n",
    "()\n",
    "{} -> key : value\n",
    "{} -> individual values"
   ]
  },
  {
   "cell_type": "code",
   "execution_count": 1,
   "id": "79cf713d",
   "metadata": {},
   "outputs": [],
   "source": [
    "nums={1,2,3,1,2,3,4,5,3,3,32,2,3,4,5,4,3,22,45,5,5,34}"
   ]
  },
  {
   "cell_type": "code",
   "execution_count": 2,
   "id": "bdf9ec1b",
   "metadata": {},
   "outputs": [
    {
     "data": {
      "text/plain": [
       "{1, 2, 3, 4, 5, 22, 32, 34, 45}"
      ]
     },
     "execution_count": 2,
     "metadata": {},
     "output_type": "execute_result"
    }
   ],
   "source": [
    "nums"
   ]
  },
  {
   "cell_type": "code",
   "execution_count": 3,
   "id": "2311cb3d",
   "metadata": {},
   "outputs": [],
   "source": [
    "nums.add(5)"
   ]
  },
  {
   "cell_type": "code",
   "execution_count": 4,
   "id": "df00681f",
   "metadata": {},
   "outputs": [
    {
     "data": {
      "text/plain": [
       "{1, 2, 3, 4, 5, 22, 32, 34, 45}"
      ]
     },
     "execution_count": 4,
     "metadata": {},
     "output_type": "execute_result"
    }
   ],
   "source": [
    "nums"
   ]
  },
  {
   "cell_type": "code",
   "execution_count": 5,
   "id": "7bb7cfc9",
   "metadata": {},
   "outputs": [],
   "source": [
    "nums.add(6)"
   ]
  },
  {
   "cell_type": "code",
   "execution_count": 6,
   "id": "fe7517a4",
   "metadata": {},
   "outputs": [
    {
     "data": {
      "text/plain": [
       "{1, 2, 3, 4, 5, 6, 22, 32, 34, 45}"
      ]
     },
     "execution_count": 6,
     "metadata": {},
     "output_type": "execute_result"
    }
   ],
   "source": [
    "nums"
   ]
  },
  {
   "cell_type": "code",
   "execution_count": 7,
   "id": "b267457a",
   "metadata": {},
   "outputs": [],
   "source": [
    "city={'Chennai','Bangalore','Hyderabad','Mumbai','Delhi','Pune','Pune'}"
   ]
  },
  {
   "cell_type": "code",
   "execution_count": 8,
   "id": "5dc41703",
   "metadata": {},
   "outputs": [
    {
     "data": {
      "text/plain": [
       "{'Bangalore', 'Chennai', 'Delhi', 'Hyderabad', 'Mumbai', 'Pune'}"
      ]
     },
     "execution_count": 8,
     "metadata": {},
     "output_type": "execute_result"
    }
   ],
   "source": [
    "city"
   ]
  },
  {
   "cell_type": "code",
   "execution_count": 9,
   "id": "fafd4401",
   "metadata": {},
   "outputs": [
    {
     "data": {
      "text/plain": [
       "{1, 2, 3, 4, 5, 6, 22, 32, 34, 45}"
      ]
     },
     "execution_count": 9,
     "metadata": {},
     "output_type": "execute_result"
    }
   ],
   "source": [
    "nums"
   ]
  },
  {
   "cell_type": "code",
   "execution_count": 10,
   "id": "479f54eb",
   "metadata": {},
   "outputs": [],
   "source": [
    "nums.remove(32)"
   ]
  },
  {
   "cell_type": "code",
   "execution_count": 11,
   "id": "77edf783",
   "metadata": {},
   "outputs": [
    {
     "data": {
      "text/plain": [
       "{1, 2, 3, 4, 5, 6, 22, 34, 45}"
      ]
     },
     "execution_count": 11,
     "metadata": {},
     "output_type": "execute_result"
    }
   ],
   "source": [
    "nums"
   ]
  },
  {
   "cell_type": "code",
   "execution_count": 13,
   "id": "119c1a62",
   "metadata": {},
   "outputs": [
    {
     "data": {
      "text/plain": [
       "1"
      ]
     },
     "execution_count": 13,
     "metadata": {},
     "output_type": "execute_result"
    }
   ],
   "source": [
    "nums.pop()"
   ]
  },
  {
   "cell_type": "code",
   "execution_count": 14,
   "id": "c7ddd62b",
   "metadata": {},
   "outputs": [
    {
     "data": {
      "text/plain": [
       "{2, 3, 4, 5, 6, 22, 34, 45}"
      ]
     },
     "execution_count": 14,
     "metadata": {},
     "output_type": "execute_result"
    }
   ],
   "source": [
    "nums"
   ]
  },
  {
   "cell_type": "code",
   "execution_count": 15,
   "id": "b5f31237",
   "metadata": {},
   "outputs": [
    {
     "data": {
      "text/plain": [
       "2"
      ]
     },
     "execution_count": 15,
     "metadata": {},
     "output_type": "execute_result"
    }
   ],
   "source": [
    "nums.pop()"
   ]
  },
  {
   "cell_type": "code",
   "execution_count": 16,
   "id": "5fcdd963",
   "metadata": {},
   "outputs": [
    {
     "data": {
      "text/plain": [
       "{3, 4, 5, 6, 22, 34, 45}"
      ]
     },
     "execution_count": 16,
     "metadata": {},
     "output_type": "execute_result"
    }
   ],
   "source": [
    "nums"
   ]
  },
  {
   "cell_type": "code",
   "execution_count": null,
   "id": "b2faf6b9",
   "metadata": {},
   "outputs": [],
   "source": [
    "union \n",
    "intesection\n",
    "difference"
   ]
  },
  {
   "cell_type": "code",
   "execution_count": 17,
   "id": "95dba4ba",
   "metadata": {},
   "outputs": [],
   "source": [
    "odd={1,3,5,7,9}\n",
    "even={2,4,6,8,10}\n",
    "prime={1,3,5,7}\n",
    "composite={1,2,3,6,7,8}"
   ]
  },
  {
   "cell_type": "code",
   "execution_count": 18,
   "id": "71c0a157",
   "metadata": {},
   "outputs": [
    {
     "data": {
      "text/plain": [
       "{1, 2, 3, 4, 5, 6, 7, 8, 9, 10}"
      ]
     },
     "execution_count": 18,
     "metadata": {},
     "output_type": "execute_result"
    }
   ],
   "source": [
    "odd.union(even)"
   ]
  },
  {
   "cell_type": "code",
   "execution_count": 19,
   "id": "9c5a54cf",
   "metadata": {},
   "outputs": [
    {
     "data": {
      "text/plain": [
       "{1, 2, 3, 4, 5, 6, 7, 8, 9, 10}"
      ]
     },
     "execution_count": 19,
     "metadata": {},
     "output_type": "execute_result"
    }
   ],
   "source": [
    "even.union(odd)"
   ]
  },
  {
   "cell_type": "code",
   "execution_count": 21,
   "id": "0d1c1ac4",
   "metadata": {},
   "outputs": [
    {
     "data": {
      "text/plain": [
       "{5, 9}"
      ]
     },
     "execution_count": 21,
     "metadata": {},
     "output_type": "execute_result"
    }
   ],
   "source": [
    "odd.difference(composite)"
   ]
  },
  {
   "cell_type": "code",
   "execution_count": 22,
   "id": "fe1e2616",
   "metadata": {},
   "outputs": [
    {
     "data": {
      "text/plain": [
       "{1, 3, 7}"
      ]
     },
     "execution_count": 22,
     "metadata": {},
     "output_type": "execute_result"
    }
   ],
   "source": [
    "odd.intersection(composite)"
   ]
  },
  {
   "cell_type": "code",
   "execution_count": 23,
   "id": "e18b3d2f",
   "metadata": {},
   "outputs": [],
   "source": [
    "lst=[1,2,3,1,2,3,4,5,6,6,7,8,7,8,9,10]"
   ]
  },
  {
   "cell_type": "code",
   "execution_count": 24,
   "id": "e0fbc9df",
   "metadata": {},
   "outputs": [
    {
     "data": {
      "text/plain": [
       "[1, 2, 3, 1, 2, 3, 4, 5, 6, 6, 7, 8, 7, 8, 9, 10]"
      ]
     },
     "execution_count": 24,
     "metadata": {},
     "output_type": "execute_result"
    }
   ],
   "source": [
    "lst"
   ]
  },
  {
   "cell_type": "code",
   "execution_count": 26,
   "id": "8ce0c603",
   "metadata": {},
   "outputs": [
    {
     "data": {
      "text/plain": [
       "[1, 2, 3, 4, 5, 6, 7, 8, 9, 10]"
      ]
     },
     "execution_count": 26,
     "metadata": {},
     "output_type": "execute_result"
    }
   ],
   "source": [
    "list(set(lst))"
   ]
  },
  {
   "cell_type": "code",
   "execution_count": null,
   "id": "fc61e0e0",
   "metadata": {},
   "outputs": [],
   "source": [
    "l"
   ]
  }
 ],
 "metadata": {
  "kernelspec": {
   "display_name": "Python 3 (ipykernel)",
   "language": "python",
   "name": "python3"
  },
  "language_info": {
   "codemirror_mode": {
    "name": "ipython",
    "version": 3
   },
   "file_extension": ".py",
   "mimetype": "text/x-python",
   "name": "python",
   "nbconvert_exporter": "python",
   "pygments_lexer": "ipython3",
   "version": "3.8.10"
  }
 },
 "nbformat": 4,
 "nbformat_minor": 5
}
