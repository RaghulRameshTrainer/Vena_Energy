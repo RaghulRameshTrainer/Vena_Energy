{
 "cells": [
  {
   "cell_type": "markdown",
   "id": "7477bc72",
   "metadata": {},
   "source": [
    "# definitions"
   ]
  },
  {
   "cell_type": "code",
   "execution_count": 1,
   "id": "6eef6906",
   "metadata": {},
   "outputs": [],
   "source": [
    "def addnums(x,y):\n",
    "    s=x+y\n",
    "    return s"
   ]
  },
  {
   "cell_type": "code",
   "execution_count": 2,
   "id": "354cca10",
   "metadata": {},
   "outputs": [
    {
     "data": {
      "text/plain": [
       "25"
      ]
     },
     "execution_count": 2,
     "metadata": {},
     "output_type": "execute_result"
    }
   ],
   "source": [
    "addnums(10,15)"
   ]
  },
  {
   "cell_type": "code",
   "execution_count": 3,
   "id": "72bb5236",
   "metadata": {},
   "outputs": [
    {
     "ename": "TypeError",
     "evalue": "addnums() missing 1 required positional argument: 'y'",
     "output_type": "error",
     "traceback": [
      "\u001b[1;31m---------------------------------------------------------------------------\u001b[0m",
      "\u001b[1;31mTypeError\u001b[0m                                 Traceback (most recent call last)",
      "Input \u001b[1;32mIn [3]\u001b[0m, in \u001b[0;36m<cell line: 1>\u001b[1;34m()\u001b[0m\n\u001b[1;32m----> 1\u001b[0m \u001b[43maddnums\u001b[49m\u001b[43m(\u001b[49m\u001b[38;5;241;43m10\u001b[39;49m\u001b[43m)\u001b[49m\n",
      "\u001b[1;31mTypeError\u001b[0m: addnums() missing 1 required positional argument: 'y'"
     ]
    }
   ],
   "source": [
    "addnums(10)"
   ]
  },
  {
   "cell_type": "code",
   "execution_count": 4,
   "id": "d70f86c4",
   "metadata": {},
   "outputs": [
    {
     "ename": "TypeError",
     "evalue": "addnums() takes 2 positional arguments but 3 were given",
     "output_type": "error",
     "traceback": [
      "\u001b[1;31m---------------------------------------------------------------------------\u001b[0m",
      "\u001b[1;31mTypeError\u001b[0m                                 Traceback (most recent call last)",
      "Input \u001b[1;32mIn [4]\u001b[0m, in \u001b[0;36m<cell line: 1>\u001b[1;34m()\u001b[0m\n\u001b[1;32m----> 1\u001b[0m \u001b[43maddnums\u001b[49m\u001b[43m(\u001b[49m\u001b[38;5;241;43m10\u001b[39;49m\u001b[43m,\u001b[49m\u001b[38;5;241;43m15\u001b[39;49m\u001b[43m,\u001b[49m\u001b[38;5;241;43m20\u001b[39;49m\u001b[43m)\u001b[49m\n",
      "\u001b[1;31mTypeError\u001b[0m: addnums() takes 2 positional arguments but 3 were given"
     ]
    }
   ],
   "source": [
    "addnums(10,15,20)"
   ]
  },
  {
   "cell_type": "code",
   "execution_count": 5,
   "id": "1cc2c0c0",
   "metadata": {},
   "outputs": [],
   "source": [
    "def addnums(x,y):\n",
    "    '''addnums function must be called with 2 numbers to get the sum of them'''\n",
    "    s=x+y\n",
    "    return s"
   ]
  },
  {
   "cell_type": "code",
   "execution_count": 6,
   "id": "20f87571",
   "metadata": {},
   "outputs": [
    {
     "data": {
      "text/plain": [
       "'addnums function must be called with 2 numbers to get the sum of them'"
      ]
     },
     "execution_count": 6,
     "metadata": {},
     "output_type": "execute_result"
    }
   ],
   "source": [
    "addnums.__doc__"
   ]
  },
  {
   "cell_type": "code",
   "execution_count": 7,
   "id": "f520262f",
   "metadata": {},
   "outputs": [
    {
     "data": {
      "text/plain": [
       "30"
      ]
     },
     "execution_count": 7,
     "metadata": {},
     "output_type": "execute_result"
    }
   ],
   "source": [
    "addnums(10,20)"
   ]
  },
  {
   "cell_type": "code",
   "execution_count": 8,
   "id": "044cb5f4",
   "metadata": {},
   "outputs": [
    {
     "ename": "TypeError",
     "evalue": "addnums() missing 1 required positional argument: 'y'",
     "output_type": "error",
     "traceback": [
      "\u001b[1;31m---------------------------------------------------------------------------\u001b[0m",
      "\u001b[1;31mTypeError\u001b[0m                                 Traceback (most recent call last)",
      "Input \u001b[1;32mIn [8]\u001b[0m, in \u001b[0;36m<cell line: 1>\u001b[1;34m()\u001b[0m\n\u001b[1;32m----> 1\u001b[0m \u001b[43maddnums\u001b[49m\u001b[43m(\u001b[49m\u001b[38;5;241;43m100\u001b[39;49m\u001b[43m)\u001b[49m\n",
      "\u001b[1;31mTypeError\u001b[0m: addnums() missing 1 required positional argument: 'y'"
     ]
    }
   ],
   "source": [
    "addnums(100)"
   ]
  },
  {
   "cell_type": "code",
   "execution_count": 9,
   "id": "16c59ea1",
   "metadata": {},
   "outputs": [],
   "source": [
    "def addnums(x,y=0):\n",
    "    '''addnums function must be called with either 1 or 2 numbers to get the sum of them'''\n",
    "    s=x+y\n",
    "    return s"
   ]
  },
  {
   "cell_type": "code",
   "execution_count": 10,
   "id": "9763c4b7",
   "metadata": {},
   "outputs": [
    {
     "data": {
      "text/plain": [
       "100"
      ]
     },
     "execution_count": 10,
     "metadata": {},
     "output_type": "execute_result"
    }
   ],
   "source": [
    "addnums(100)"
   ]
  },
  {
   "cell_type": "code",
   "execution_count": 11,
   "id": "9b820030",
   "metadata": {},
   "outputs": [
    {
     "data": {
      "text/plain": [
       "300"
      ]
     },
     "execution_count": 11,
     "metadata": {},
     "output_type": "execute_result"
    }
   ],
   "source": [
    "addnums(100,200)"
   ]
  },
  {
   "cell_type": "code",
   "execution_count": 13,
   "id": "acdc0311",
   "metadata": {},
   "outputs": [],
   "source": [
    "def addnums(x,*y):\n",
    "    '''addnums function must be called with either 1 or 2 numbers to get the sum of them'''\n",
    "    print(f\"x:{x}\")\n",
    "    print(f\"y:{y}\")\n",
    "#     s=x+y\n",
    "#     return s"
   ]
  },
  {
   "cell_type": "code",
   "execution_count": 14,
   "id": "13ead6ff",
   "metadata": {},
   "outputs": [
    {
     "name": "stdout",
     "output_type": "stream",
     "text": [
      "x:10\n",
      "y:()\n"
     ]
    }
   ],
   "source": [
    "addnums(10)"
   ]
  },
  {
   "cell_type": "code",
   "execution_count": 15,
   "id": "e811caf0",
   "metadata": {},
   "outputs": [
    {
     "name": "stdout",
     "output_type": "stream",
     "text": [
      "x:10\n",
      "y:(20,)\n"
     ]
    }
   ],
   "source": [
    "addnums(10,20)"
   ]
  },
  {
   "cell_type": "code",
   "execution_count": 17,
   "id": "017531a5",
   "metadata": {},
   "outputs": [
    {
     "name": "stdout",
     "output_type": "stream",
     "text": [
      "x:10\n",
      "y:(20, 30)\n"
     ]
    }
   ],
   "source": [
    "addnums(10,20,30)"
   ]
  },
  {
   "cell_type": "code",
   "execution_count": 18,
   "id": "ffcf5a1b",
   "metadata": {},
   "outputs": [
    {
     "name": "stdout",
     "output_type": "stream",
     "text": [
      "x:10\n",
      "y:(20, 30, 40, 50, 60)\n"
     ]
    }
   ],
   "source": [
    "addnums(10,20,30,40,50,60)"
   ]
  },
  {
   "cell_type": "code",
   "execution_count": 20,
   "id": "b5346d42",
   "metadata": {},
   "outputs": [],
   "source": [
    "def addnums(x,*y):\n",
    "    '''addnums function must be called with either 1 or 2 numbers to get the sum of them'''\n",
    "    s=x+sum(y)\n",
    "    return s"
   ]
  },
  {
   "cell_type": "code",
   "execution_count": 21,
   "id": "772b415d",
   "metadata": {},
   "outputs": [
    {
     "data": {
      "text/plain": [
       "10"
      ]
     },
     "execution_count": 21,
     "metadata": {},
     "output_type": "execute_result"
    }
   ],
   "source": [
    "addnums(10)"
   ]
  },
  {
   "cell_type": "code",
   "execution_count": 22,
   "id": "5f607301",
   "metadata": {},
   "outputs": [
    {
     "data": {
      "text/plain": [
       "30"
      ]
     },
     "execution_count": 22,
     "metadata": {},
     "output_type": "execute_result"
    }
   ],
   "source": [
    "addnums(10,20)"
   ]
  },
  {
   "cell_type": "code",
   "execution_count": 24,
   "id": "7917500c",
   "metadata": {},
   "outputs": [
    {
     "data": {
      "text/plain": [
       "60"
      ]
     },
     "execution_count": 24,
     "metadata": {},
     "output_type": "execute_result"
    }
   ],
   "source": [
    "addnums(10,20,30)"
   ]
  },
  {
   "cell_type": "code",
   "execution_count": 25,
   "id": "e8a838fe",
   "metadata": {},
   "outputs": [
    {
     "data": {
      "text/plain": [
       "100"
      ]
     },
     "execution_count": 25,
     "metadata": {},
     "output_type": "execute_result"
    }
   ],
   "source": [
    "addnums(10,20,30,40)"
   ]
  },
  {
   "cell_type": "code",
   "execution_count": 26,
   "id": "2d07ad21",
   "metadata": {},
   "outputs": [
    {
     "data": {
      "text/plain": [
       "210"
      ]
     },
     "execution_count": 26,
     "metadata": {},
     "output_type": "execute_result"
    }
   ],
   "source": [
    "addnums(10,20,30,40,50,60)"
   ]
  },
  {
   "cell_type": "code",
   "execution_count": 27,
   "id": "dfff00b7",
   "metadata": {},
   "outputs": [],
   "source": [
    "def addnums(*y):\n",
    "    '''addnums function must be called with either 1 or 2 numbers to get the sum of them'''\n",
    "    s=sum(y)\n",
    "    return s"
   ]
  },
  {
   "cell_type": "code",
   "execution_count": 28,
   "id": "c048d8b3",
   "metadata": {},
   "outputs": [
    {
     "data": {
      "text/plain": [
       "0"
      ]
     },
     "execution_count": 28,
     "metadata": {},
     "output_type": "execute_result"
    }
   ],
   "source": [
    "addnums()"
   ]
  },
  {
   "cell_type": "code",
   "execution_count": 29,
   "id": "7bdbd456",
   "metadata": {},
   "outputs": [
    {
     "data": {
      "text/plain": [
       "100"
      ]
     },
     "execution_count": 29,
     "metadata": {},
     "output_type": "execute_result"
    }
   ],
   "source": [
    "addnums(100)"
   ]
  },
  {
   "cell_type": "code",
   "execution_count": 30,
   "id": "547580a1",
   "metadata": {},
   "outputs": [
    {
     "data": {
      "text/plain": [
       "300"
      ]
     },
     "execution_count": 30,
     "metadata": {},
     "output_type": "execute_result"
    }
   ],
   "source": [
    "addnums(100,200)"
   ]
  },
  {
   "cell_type": "code",
   "execution_count": 31,
   "id": "380269c2",
   "metadata": {},
   "outputs": [
    {
     "data": {
      "text/plain": [
       "600"
      ]
     },
     "execution_count": 31,
     "metadata": {},
     "output_type": "execute_result"
    }
   ],
   "source": [
    "addnums(100,200,300)"
   ]
  },
  {
   "cell_type": "code",
   "execution_count": 32,
   "id": "08351d3b",
   "metadata": {},
   "outputs": [],
   "source": [
    "def addnums(*x, **y):\n",
    "    print(f\"x:{x}\")\n",
    "    print(f\"y:{y}\")"
   ]
  },
  {
   "cell_type": "code",
   "execution_count": 33,
   "id": "dbf8a31b",
   "metadata": {},
   "outputs": [
    {
     "name": "stdout",
     "output_type": "stream",
     "text": [
      "x:(10, 20, 30, 40, 50)\n",
      "y:{'day': 'Friday', 'year': 2022, 'tech': 'Python', 'company': 'vena energy'}\n"
     ]
    }
   ],
   "source": [
    "addnums(10,20,30,40,50,day='Friday', year=2022, tech=\"Python\",company=\"vena energy\")"
   ]
  },
  {
   "cell_type": "code",
   "execution_count": 34,
   "id": "1cad82ae",
   "metadata": {},
   "outputs": [],
   "source": [
    "def addnums(*x, **y):\n",
    "#     print(f\"x:{x}\")\n",
    "#     print(f\"y:{y}\")\n",
    "    for k in y:\n",
    "        print(k + \" ===> \" + str(y[k]))\n",
    "    return sum(x)"
   ]
  },
  {
   "cell_type": "code",
   "execution_count": 35,
   "id": "ea8e6332",
   "metadata": {},
   "outputs": [
    {
     "name": "stdout",
     "output_type": "stream",
     "text": [
      "day ===> Friday\n",
      "year ===> 2022\n",
      "tech ===> Python\n",
      "company ===> vena energy\n"
     ]
    },
    {
     "data": {
      "text/plain": [
       "150"
      ]
     },
     "execution_count": 35,
     "metadata": {},
     "output_type": "execute_result"
    }
   ],
   "source": [
    "addnums(10,20,30,40,50,day='Friday', year=2022, tech=\"Python\",company=\"vena energy\")"
   ]
  },
  {
   "cell_type": "code",
   "execution_count": null,
   "id": "6a61e8d6",
   "metadata": {},
   "outputs": [],
   "source": []
  }
 ],
 "metadata": {
  "kernelspec": {
   "display_name": "Python 3 (ipykernel)",
   "language": "python",
   "name": "python3"
  },
  "language_info": {
   "codemirror_mode": {
    "name": "ipython",
    "version": 3
   },
   "file_extension": ".py",
   "mimetype": "text/x-python",
   "name": "python",
   "nbconvert_exporter": "python",
   "pygments_lexer": "ipython3",
   "version": "3.8.10"
  }
 },
 "nbformat": 4,
 "nbformat_minor": 5
}
