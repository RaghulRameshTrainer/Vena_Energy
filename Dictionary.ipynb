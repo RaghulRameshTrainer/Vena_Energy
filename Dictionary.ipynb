{
 "cells": [
  {
   "cell_type": "code",
   "execution_count": null,
   "id": "1093b575",
   "metadata": {},
   "outputs": [],
   "source": [
    "'''\n",
    "key value pairs of element\n",
    "key cannot be duplicated\n",
    "\n",
    "'''"
   ]
  },
  {
   "cell_type": "code",
   "execution_count": 6,
   "id": "6c6122ea",
   "metadata": {},
   "outputs": [],
   "source": [
    "details={\n",
    "    'model':'Ecosport',\n",
    "    'make':'FORD',\n",
    "    'price':1700000,\n",
    "    'capacity':7,\n",
    "    10000:'discount',\n",
    "    'showroom':['Velachery','Sjolinganallur','Adyar','Paris']\n",
    "}"
   ]
  },
  {
   "cell_type": "code",
   "execution_count": 7,
   "id": "4ffd202b",
   "metadata": {},
   "outputs": [
    {
     "data": {
      "text/plain": [
       "dict"
      ]
     },
     "execution_count": 7,
     "metadata": {},
     "output_type": "execute_result"
    }
   ],
   "source": [
    "type(details)"
   ]
  },
  {
   "cell_type": "code",
   "execution_count": 8,
   "id": "a494b02f",
   "metadata": {},
   "outputs": [
    {
     "data": {
      "text/plain": [
       "{'model': 'Ecosport',\n",
       " 'make': 'FORD',\n",
       " 'price': 1700000,\n",
       " 'capacity': 7,\n",
       " 10000: 'discount',\n",
       " 'showroom': ['Velachery', 'Sjolinganallur', 'Adyar', 'Paris']}"
      ]
     },
     "execution_count": 8,
     "metadata": {},
     "output_type": "execute_result"
    }
   ],
   "source": [
    "details"
   ]
  },
  {
   "cell_type": "code",
   "execution_count": 9,
   "id": "d3d883cb",
   "metadata": {},
   "outputs": [
    {
     "data": {
      "text/plain": [
       "1700000"
      ]
     },
     "execution_count": 9,
     "metadata": {},
     "output_type": "execute_result"
    }
   ],
   "source": [
    "details['price']"
   ]
  },
  {
   "cell_type": "code",
   "execution_count": 10,
   "id": "c0c7c36a",
   "metadata": {},
   "outputs": [
    {
     "data": {
      "text/plain": [
       "'Ecosport'"
      ]
     },
     "execution_count": 10,
     "metadata": {},
     "output_type": "execute_result"
    }
   ],
   "source": [
    "details['model']"
   ]
  },
  {
   "cell_type": "code",
   "execution_count": 11,
   "id": "4a83ae68",
   "metadata": {},
   "outputs": [],
   "source": [
    "details['colur']=\"white\""
   ]
  },
  {
   "cell_type": "code",
   "execution_count": 12,
   "id": "14f3b5e4",
   "metadata": {},
   "outputs": [
    {
     "data": {
      "text/plain": [
       "{'model': 'Ecosport',\n",
       " 'make': 'FORD',\n",
       " 'price': 1700000,\n",
       " 'capacity': 7,\n",
       " 10000: 'discount',\n",
       " 'showroom': ['Velachery', 'Sjolinganallur', 'Adyar', 'Paris'],\n",
       " 'colur': 'white'}"
      ]
     },
     "execution_count": 12,
     "metadata": {},
     "output_type": "execute_result"
    }
   ],
   "source": [
    "details"
   ]
  },
  {
   "cell_type": "code",
   "execution_count": 13,
   "id": "e1e4caaf",
   "metadata": {},
   "outputs": [
    {
     "data": {
      "text/plain": [
       "7"
      ]
     },
     "execution_count": 13,
     "metadata": {},
     "output_type": "execute_result"
    }
   ],
   "source": [
    "details.pop('capacity')"
   ]
  },
  {
   "cell_type": "code",
   "execution_count": 14,
   "id": "e5b4297e",
   "metadata": {},
   "outputs": [
    {
     "data": {
      "text/plain": [
       "{'model': 'Ecosport',\n",
       " 'make': 'FORD',\n",
       " 'price': 1700000,\n",
       " 10000: 'discount',\n",
       " 'showroom': ['Velachery', 'Sjolinganallur', 'Adyar', 'Paris'],\n",
       " 'colur': 'white'}"
      ]
     },
     "execution_count": 14,
     "metadata": {},
     "output_type": "execute_result"
    }
   ],
   "source": [
    "details"
   ]
  },
  {
   "cell_type": "code",
   "execution_count": 15,
   "id": "b3b8d18e",
   "metadata": {},
   "outputs": [
    {
     "data": {
      "text/plain": [
       "('colur', 'white')"
      ]
     },
     "execution_count": 15,
     "metadata": {},
     "output_type": "execute_result"
    }
   ],
   "source": [
    "details.popitem()"
   ]
  },
  {
   "cell_type": "code",
   "execution_count": 16,
   "id": "ee81a533",
   "metadata": {},
   "outputs": [
    {
     "data": {
      "text/plain": [
       "{'model': 'Ecosport',\n",
       " 'make': 'FORD',\n",
       " 'price': 1700000,\n",
       " 10000: 'discount',\n",
       " 'showroom': ['Velachery', 'Sjolinganallur', 'Adyar', 'Paris']}"
      ]
     },
     "execution_count": 16,
     "metadata": {},
     "output_type": "execute_result"
    }
   ],
   "source": [
    "details"
   ]
  },
  {
   "cell_type": "code",
   "execution_count": 17,
   "id": "f6ecb809",
   "metadata": {},
   "outputs": [
    {
     "ename": "KeyError",
     "evalue": "'fuel_type'",
     "output_type": "error",
     "traceback": [
      "\u001b[1;31m---------------------------------------------------------------------------\u001b[0m",
      "\u001b[1;31mKeyError\u001b[0m                                  Traceback (most recent call last)",
      "Input \u001b[1;32mIn [17]\u001b[0m, in \u001b[0;36m<cell line: 1>\u001b[1;34m()\u001b[0m\n\u001b[1;32m----> 1\u001b[0m \u001b[43mdetails\u001b[49m\u001b[43m[\u001b[49m\u001b[38;5;124;43m'\u001b[39;49m\u001b[38;5;124;43mfuel_type\u001b[39;49m\u001b[38;5;124;43m'\u001b[39;49m\u001b[43m]\u001b[49m\n",
      "\u001b[1;31mKeyError\u001b[0m: 'fuel_type'"
     ]
    }
   ],
   "source": [
    "details['fuel_type']"
   ]
  },
  {
   "cell_type": "markdown",
   "id": "2e326da5",
   "metadata": {},
   "source": [
    "# get , setdefault"
   ]
  },
  {
   "cell_type": "code",
   "execution_count": 18,
   "id": "75ae99f0",
   "metadata": {},
   "outputs": [
    {
     "data": {
      "text/plain": [
       "{'model': 'Ecosport',\n",
       " 'make': 'FORD',\n",
       " 'price': 1700000,\n",
       " 10000: 'discount',\n",
       " 'showroom': ['Velachery', 'Sjolinganallur', 'Adyar', 'Paris']}"
      ]
     },
     "execution_count": 18,
     "metadata": {},
     "output_type": "execute_result"
    }
   ],
   "source": [
    "details"
   ]
  },
  {
   "cell_type": "code",
   "execution_count": 19,
   "id": "94aa8673",
   "metadata": {},
   "outputs": [
    {
     "data": {
      "text/plain": [
       "1700000"
      ]
     },
     "execution_count": 19,
     "metadata": {},
     "output_type": "execute_result"
    }
   ],
   "source": [
    "details.get('price')"
   ]
  },
  {
   "cell_type": "code",
   "execution_count": 20,
   "id": "0765eb47",
   "metadata": {},
   "outputs": [],
   "source": [
    "details.get('fuel_type')"
   ]
  },
  {
   "cell_type": "code",
   "execution_count": 21,
   "id": "f1c3a70c",
   "metadata": {},
   "outputs": [
    {
     "data": {
      "text/plain": [
       "'PETROL'"
      ]
     },
     "execution_count": 21,
     "metadata": {},
     "output_type": "execute_result"
    }
   ],
   "source": [
    "details.get('fuel_type',\"PETROL\")"
   ]
  },
  {
   "cell_type": "code",
   "execution_count": 22,
   "id": "5607226f",
   "metadata": {},
   "outputs": [
    {
     "data": {
      "text/plain": [
       "{'model': 'Ecosport',\n",
       " 'make': 'FORD',\n",
       " 'price': 1700000,\n",
       " 10000: 'discount',\n",
       " 'showroom': ['Velachery', 'Sjolinganallur', 'Adyar', 'Paris']}"
      ]
     },
     "execution_count": 22,
     "metadata": {},
     "output_type": "execute_result"
    }
   ],
   "source": [
    "details"
   ]
  },
  {
   "cell_type": "code",
   "execution_count": 23,
   "id": "9e769785",
   "metadata": {},
   "outputs": [
    {
     "data": {
      "text/plain": [
       "'Ecosport'"
      ]
     },
     "execution_count": 23,
     "metadata": {},
     "output_type": "execute_result"
    }
   ],
   "source": [
    "details.setdefault('model')"
   ]
  },
  {
   "cell_type": "code",
   "execution_count": 24,
   "id": "10488b58",
   "metadata": {},
   "outputs": [
    {
     "data": {
      "text/plain": [
       "'PETROL'"
      ]
     },
     "execution_count": 24,
     "metadata": {},
     "output_type": "execute_result"
    }
   ],
   "source": [
    "details.setdefault('fuel_type',\"PETROL\")"
   ]
  },
  {
   "cell_type": "code",
   "execution_count": 25,
   "id": "65ea8dc2",
   "metadata": {},
   "outputs": [
    {
     "data": {
      "text/plain": [
       "{'model': 'Ecosport',\n",
       " 'make': 'FORD',\n",
       " 'price': 1700000,\n",
       " 10000: 'discount',\n",
       " 'showroom': ['Velachery', 'Sjolinganallur', 'Adyar', 'Paris'],\n",
       " 'fuel_type': 'PETROL'}"
      ]
     },
     "execution_count": 25,
     "metadata": {},
     "output_type": "execute_result"
    }
   ],
   "source": [
    "details"
   ]
  },
  {
   "cell_type": "code",
   "execution_count": 26,
   "id": "bad5fdfb",
   "metadata": {},
   "outputs": [],
   "source": [
    "details.setdefault('engine_type')"
   ]
  },
  {
   "cell_type": "code",
   "execution_count": 27,
   "id": "18af9212",
   "metadata": {},
   "outputs": [
    {
     "data": {
      "text/plain": [
       "{'model': 'Ecosport',\n",
       " 'make': 'FORD',\n",
       " 'price': 1700000,\n",
       " 10000: 'discount',\n",
       " 'showroom': ['Velachery', 'Sjolinganallur', 'Adyar', 'Paris'],\n",
       " 'fuel_type': 'PETROL',\n",
       " 'engine_type': None}"
      ]
     },
     "execution_count": 27,
     "metadata": {},
     "output_type": "execute_result"
    }
   ],
   "source": [
    "details"
   ]
  },
  {
   "cell_type": "code",
   "execution_count": 28,
   "id": "3967b4d5",
   "metadata": {},
   "outputs": [
    {
     "data": {
      "text/plain": [
       "['Velachery', 'Sjolinganallur', 'Adyar', 'Paris']"
      ]
     },
     "execution_count": 28,
     "metadata": {},
     "output_type": "execute_result"
    }
   ],
   "source": [
    "details.setdefault('showroom')"
   ]
  },
  {
   "cell_type": "code",
   "execution_count": null,
   "id": "e93e87b4",
   "metadata": {},
   "outputs": [],
   "source": [
    "# get setdefault pop potitem update"
   ]
  },
  {
   "cell_type": "code",
   "execution_count": 29,
   "id": "7f216975",
   "metadata": {},
   "outputs": [],
   "source": [
    "details.update({'price':2000000,'fuel_type':'electric','ac':True,'manual':'avt'})"
   ]
  },
  {
   "cell_type": "code",
   "execution_count": 32,
   "id": "ca2b8334",
   "metadata": {},
   "outputs": [
    {
     "data": {
      "text/plain": [
       "{'model': 'Ecosport',\n",
       " 'make': 'FORD',\n",
       " 'price': 2000000,\n",
       " 10000: 'discount',\n",
       " 'showroom': ['Velachery', 'Sjolinganallur', 'Adyar', 'Paris'],\n",
       " 'fuel_type': 'electric',\n",
       " 'engine_type': None,\n",
       " 'ac': True,\n",
       " 'manual': 'avt'}"
      ]
     },
     "execution_count": 32,
     "metadata": {},
     "output_type": "execute_result"
    }
   ],
   "source": [
    "details"
   ]
  },
  {
   "cell_type": "markdown",
   "id": "e9799d62",
   "metadata": {},
   "source": [
    "# keys, values, items"
   ]
  },
  {
   "cell_type": "code",
   "execution_count": 33,
   "id": "7a55c1e3",
   "metadata": {},
   "outputs": [
    {
     "data": {
      "text/plain": [
       "{'model': 'Ecosport',\n",
       " 'make': 'FORD',\n",
       " 'price': 2000000,\n",
       " 10000: 'discount',\n",
       " 'showroom': ['Velachery', 'Sjolinganallur', 'Adyar', 'Paris'],\n",
       " 'fuel_type': 'electric',\n",
       " 'engine_type': None,\n",
       " 'ac': True,\n",
       " 'manual': 'avt'}"
      ]
     },
     "execution_count": 33,
     "metadata": {},
     "output_type": "execute_result"
    }
   ],
   "source": [
    "details"
   ]
  },
  {
   "cell_type": "code",
   "execution_count": 34,
   "id": "2ffdea8d",
   "metadata": {},
   "outputs": [
    {
     "data": {
      "text/plain": [
       "dict_keys(['model', 'make', 'price', 10000, 'showroom', 'fuel_type', 'engine_type', 'ac', 'manual'])"
      ]
     },
     "execution_count": 34,
     "metadata": {},
     "output_type": "execute_result"
    }
   ],
   "source": [
    "details.keys()"
   ]
  },
  {
   "cell_type": "code",
   "execution_count": 35,
   "id": "6e7aad2d",
   "metadata": {},
   "outputs": [
    {
     "data": {
      "text/plain": [
       "dict_values(['Ecosport', 'FORD', 2000000, 'discount', ['Velachery', 'Sjolinganallur', 'Adyar', 'Paris'], 'electric', None, True, 'avt'])"
      ]
     },
     "execution_count": 35,
     "metadata": {},
     "output_type": "execute_result"
    }
   ],
   "source": [
    "details.values()"
   ]
  },
  {
   "cell_type": "code",
   "execution_count": 36,
   "id": "93cc7a74",
   "metadata": {},
   "outputs": [
    {
     "data": {
      "text/plain": [
       "dict_items([('model', 'Ecosport'), ('make', 'FORD'), ('price', 2000000), (10000, 'discount'), ('showroom', ['Velachery', 'Sjolinganallur', 'Adyar', 'Paris']), ('fuel_type', 'electric'), ('engine_type', None), ('ac', True), ('manual', 'avt')])"
      ]
     },
     "execution_count": 36,
     "metadata": {},
     "output_type": "execute_result"
    }
   ],
   "source": [
    "details.items()"
   ]
  },
  {
   "cell_type": "code",
   "execution_count": 39,
   "id": "439ea809",
   "metadata": {},
   "outputs": [
    {
     "name": "stdout",
     "output_type": "stream",
     "text": [
      "model Ecosport\n",
      "make FORD\n",
      "price 2000000\n",
      "10000 discount\n",
      "showroom ['Velachery', 'Sjolinganallur', 'Adyar', 'Paris']\n",
      "fuel_type electric\n",
      "engine_type None\n",
      "ac True\n",
      "manual avt\n"
     ]
    }
   ],
   "source": [
    "for k in details.keys():\n",
    "    print(str(k) +\" ---> \"+ strdetails[k])"
   ]
  },
  {
   "cell_type": "code",
   "execution_count": null,
   "id": "5ab7705d",
   "metadata": {},
   "outputs": [],
   "source": []
  }
 ],
 "metadata": {
  "kernelspec": {
   "display_name": "Python 3 (ipykernel)",
   "language": "python",
   "name": "python3"
  },
  "language_info": {
   "codemirror_mode": {
    "name": "ipython",
    "version": 3
   },
   "file_extension": ".py",
   "mimetype": "text/x-python",
   "name": "python",
   "nbconvert_exporter": "python",
   "pygments_lexer": "ipython3",
   "version": "3.8.10"
  }
 },
 "nbformat": 4,
 "nbformat_minor": 5
}
