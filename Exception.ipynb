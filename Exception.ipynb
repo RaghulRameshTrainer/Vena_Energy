{
 "cells": [
  {
   "cell_type": "markdown",
   "id": "840e22bf",
   "metadata": {},
   "source": [
    "# Exception Handling"
   ]
  },
  {
   "cell_type": "code",
   "execution_count": null,
   "id": "3c717541",
   "metadata": {},
   "outputs": [],
   "source": [
    "'''\n",
    "4 clauses:\n",
    "try\n",
    "except\n",
    "else\n",
    "finally\n",
    "\n",
    "'''"
   ]
  },
  {
   "cell_type": "code",
   "execution_count": 4,
   "id": "7c868770",
   "metadata": {},
   "outputs": [
    {
     "ename": "FileNotFoundError",
     "evalue": "[Errno 2] No such file or directory: 'myfile.txt'",
     "output_type": "error",
     "traceback": [
      "\u001b[1;31m---------------------------------------------------------------------------\u001b[0m",
      "\u001b[1;31mFileNotFoundError\u001b[0m                         Traceback (most recent call last)",
      "Input \u001b[1;32mIn [4]\u001b[0m, in \u001b[0;36m<cell line: 1>\u001b[1;34m()\u001b[0m\n\u001b[1;32m----> 1\u001b[0m \u001b[38;5;28;01mwith\u001b[39;00m \u001b[38;5;28;43mopen\u001b[39;49m\u001b[43m(\u001b[49m\u001b[38;5;124;43m'\u001b[39;49m\u001b[38;5;124;43mmyfile.txt\u001b[39;49m\u001b[38;5;124;43m'\u001b[39;49m\u001b[43m,\u001b[49m\u001b[38;5;124;43m'\u001b[39;49m\u001b[38;5;124;43mr\u001b[39;49m\u001b[38;5;124;43m'\u001b[39;49m\u001b[43m)\u001b[49m \u001b[38;5;28;01mas\u001b[39;00m fo:\n\u001b[0;32m      2\u001b[0m     \u001b[38;5;28mprint\u001b[39m(fo\u001b[38;5;241m.\u001b[39mread())\n\u001b[0;32m      4\u001b[0m \u001b[38;5;28mprint\u001b[39m(\u001b[38;5;124m\"\u001b[39m\u001b[38;5;124mTax Calulation\u001b[39m\u001b[38;5;124m\"\u001b[39m)\n",
      "\u001b[1;31mFileNotFoundError\u001b[0m: [Errno 2] No such file or directory: 'myfile.txt'"
     ]
    }
   ],
   "source": [
    "with open('myfile.txt','r') as fo:\n",
    "    print(fo.read())\n",
    "    \n",
    "print(\"Tax Calulation\")"
   ]
  },
  {
   "cell_type": "code",
   "execution_count": 19,
   "id": "ede6938a",
   "metadata": {},
   "outputs": [
    {
     "name": "stdout",
     "output_type": "stream",
     "text": [
      "Python\n",
      "AIML\n",
      "AWS\n",
      "GCP\n",
      "Spark\n",
      "11\n",
      "Enter your age:500\n",
      "AGE ISSUE. Age should be between 0-100 only.\n",
      "Always irrespective of the exception\n",
      "Tax Calulation\n"
     ]
    }
   ],
   "source": [
    "try:\n",
    "    with open('myfile.txt','r') as fo:\n",
    "        print(fo.read())\n",
    "    res=5+6\n",
    "    print(res)\n",
    "    #print(data[0])\n",
    "    age=int(input(\"Enter your age:\"))\n",
    "    \n",
    "    if age<0 or age > 100:\n",
    "        raise ValueError('Age should be between 0-100 only.')\n",
    "    else:\n",
    "        print(\"Your age is :\",age)\n",
    "except FileNotFoundError as e:\n",
    "    print(\"Received an error while reading the file. \", e)\n",
    "except TypeError as e:\n",
    "    print(\"Issue is performing addition.\",e)\n",
    "except ValueError as e:\n",
    "    print(\"AGE ISSUE.\", e)\n",
    "except Exception as e:\n",
    "    print('Received new exception.',e)\n",
    "else:\n",
    "    print(\"I am from else that I run when there is no exception\")\n",
    "finally:\n",
    "    print(\"Always irrespective of the exception\")\n",
    "print(\"Tax Calulation\")"
   ]
  },
  {
   "cell_type": "code",
   "execution_count": 7,
   "id": "3846b1e8",
   "metadata": {},
   "outputs": [],
   "source": []
  },
  {
   "cell_type": "code",
   "execution_count": null,
   "id": "e55ca349",
   "metadata": {},
   "outputs": [],
   "source": []
  }
 ],
 "metadata": {
  "kernelspec": {
   "display_name": "Python 3 (ipykernel)",
   "language": "python",
   "name": "python3"
  },
  "language_info": {
   "codemirror_mode": {
    "name": "ipython",
    "version": 3
   },
   "file_extension": ".py",
   "mimetype": "text/x-python",
   "name": "python",
   "nbconvert_exporter": "python",
   "pygments_lexer": "ipython3",
   "version": "3.8.10"
  }
 },
 "nbformat": 4,
 "nbformat_minor": 5
}
