{
 "cells": [
  {
   "cell_type": "code",
   "execution_count": 4,
   "id": "e9a3718d",
   "metadata": {},
   "outputs": [],
   "source": [
    "name='Vena Energy'"
   ]
  },
  {
   "cell_type": "code",
   "execution_count": 5,
   "id": "b27a85dd",
   "metadata": {},
   "outputs": [
    {
     "data": {
      "text/plain": [
       "str"
      ]
     },
     "execution_count": 5,
     "metadata": {},
     "output_type": "execute_result"
    }
   ],
   "source": [
    "type(name)"
   ]
  },
  {
   "cell_type": "code",
   "execution_count": 3,
   "id": "eb4ff646",
   "metadata": {},
   "outputs": [
    {
     "data": {
      "text/plain": [
       "11"
      ]
     },
     "execution_count": 3,
     "metadata": {},
     "output_type": "execute_result"
    }
   ],
   "source": [
    "len(name)"
   ]
  },
  {
   "cell_type": "markdown",
   "id": "c7a90037",
   "metadata": {},
   "source": [
    "\n",
    "# slicing"
   ]
  },
  {
   "cell_type": "code",
   "execution_count": 6,
   "id": "868eafdc",
   "metadata": {},
   "outputs": [
    {
     "data": {
      "text/plain": [
       "'V'"
      ]
     },
     "execution_count": 6,
     "metadata": {},
     "output_type": "execute_result"
    }
   ],
   "source": [
    "name[0]"
   ]
  },
  {
   "cell_type": "code",
   "execution_count": 7,
   "id": "4fcfad2b",
   "metadata": {},
   "outputs": [
    {
     "data": {
      "text/plain": [
       "'e'"
      ]
     },
     "execution_count": 7,
     "metadata": {},
     "output_type": "execute_result"
    }
   ],
   "source": [
    "name[1]"
   ]
  },
  {
   "cell_type": "code",
   "execution_count": 8,
   "id": "0d7b9399",
   "metadata": {},
   "outputs": [
    {
     "data": {
      "text/plain": [
       "'Vena Energy'"
      ]
     },
     "execution_count": 8,
     "metadata": {},
     "output_type": "execute_result"
    }
   ],
   "source": [
    "name"
   ]
  },
  {
   "cell_type": "code",
   "execution_count": 9,
   "id": "07540c98",
   "metadata": {},
   "outputs": [
    {
     "data": {
      "text/plain": [
       "'n'"
      ]
     },
     "execution_count": 9,
     "metadata": {},
     "output_type": "execute_result"
    }
   ],
   "source": [
    "name[2]"
   ]
  },
  {
   "cell_type": "code",
   "execution_count": 10,
   "id": "5924a21c",
   "metadata": {},
   "outputs": [
    {
     "data": {
      "text/plain": [
       "'y'"
      ]
     },
     "execution_count": 10,
     "metadata": {},
     "output_type": "execute_result"
    }
   ],
   "source": [
    "name[10]"
   ]
  },
  {
   "cell_type": "code",
   "execution_count": 11,
   "id": "91bed321",
   "metadata": {},
   "outputs": [
    {
     "data": {
      "text/plain": [
       "'y'"
      ]
     },
     "execution_count": 11,
     "metadata": {},
     "output_type": "execute_result"
    }
   ],
   "source": [
    "name[-1]"
   ]
  },
  {
   "cell_type": "code",
   "execution_count": 12,
   "id": "6d23a8ad",
   "metadata": {},
   "outputs": [
    {
     "data": {
      "text/plain": [
       "'g'"
      ]
     },
     "execution_count": 12,
     "metadata": {},
     "output_type": "execute_result"
    }
   ],
   "source": [
    "name[-2]"
   ]
  },
  {
   "cell_type": "code",
   "execution_count": 13,
   "id": "4e906208",
   "metadata": {},
   "outputs": [
    {
     "data": {
      "text/plain": [
       "'r'"
      ]
     },
     "execution_count": 13,
     "metadata": {},
     "output_type": "execute_result"
    }
   ],
   "source": [
    "name[-3]"
   ]
  },
  {
   "cell_type": "code",
   "execution_count": 14,
   "id": "63920a74",
   "metadata": {},
   "outputs": [
    {
     "data": {
      "text/plain": [
       "'Vena Energy'"
      ]
     },
     "execution_count": 14,
     "metadata": {},
     "output_type": "execute_result"
    }
   ],
   "source": [
    "name"
   ]
  },
  {
   "cell_type": "code",
   "execution_count": 16,
   "id": "ef06e447",
   "metadata": {},
   "outputs": [
    {
     "data": {
      "text/plain": [
       "'Vena'"
      ]
     },
     "execution_count": 16,
     "metadata": {},
     "output_type": "execute_result"
    }
   ],
   "source": [
    "name[0:4]    # upper limit is not inclsive (exclusive)"
   ]
  },
  {
   "cell_type": "code",
   "execution_count": 17,
   "id": "7fdd988d",
   "metadata": {},
   "outputs": [
    {
     "data": {
      "text/plain": [
       "'Vena'"
      ]
     },
     "execution_count": 17,
     "metadata": {},
     "output_type": "execute_result"
    }
   ],
   "source": [
    "name[:4]"
   ]
  },
  {
   "cell_type": "code",
   "execution_count": 18,
   "id": "7594be9f",
   "metadata": {},
   "outputs": [
    {
     "data": {
      "text/plain": [
       "'Energy'"
      ]
     },
     "execution_count": 18,
     "metadata": {},
     "output_type": "execute_result"
    }
   ],
   "source": [
    "name[5:]"
   ]
  },
  {
   "cell_type": "code",
   "execution_count": 19,
   "id": "bf03d930",
   "metadata": {},
   "outputs": [
    {
     "data": {
      "text/plain": [
       "'Energy'"
      ]
     },
     "execution_count": 19,
     "metadata": {},
     "output_type": "execute_result"
    }
   ],
   "source": [
    "name[5:11]"
   ]
  },
  {
   "cell_type": "code",
   "execution_count": 21,
   "id": "5c70ceaa",
   "metadata": {},
   "outputs": [
    {
     "name": "stdout",
     "output_type": "stream",
     "text": [
      "['__add__', '__class__', '__contains__', '__delattr__', '__dir__', '__doc__', '__eq__', '__format__', '__ge__', '__getattribute__', '__getitem__', '__getnewargs__', '__gt__', '__hash__', '__init__', '__init_subclass__', '__iter__', '__le__', '__len__', '__lt__', '__mod__', '__mul__', '__ne__', '__new__', '__reduce__', '__reduce_ex__', '__repr__', '__rmod__', '__rmul__', '__setattr__', '__sizeof__', '__str__', '__subclasshook__', 'capitalize', 'casefold', 'center', 'count', 'encode', 'endswith', 'expandtabs', 'find', 'format', 'format_map', 'index', 'isalnum', 'isalpha', 'isascii', 'isdecimal', 'isdigit', 'isidentifier', 'islower', 'isnumeric', 'isprintable', 'isspace', 'istitle', 'isupper', 'join', 'ljust', 'lower', 'lstrip', 'maketrans', 'partition', 'replace', 'rfind', 'rindex', 'rjust', 'rpartition', 'rsplit', 'rstrip', 'split', 'splitlines', 'startswith', 'strip', 'swapcase', 'title', 'translate', 'upper', 'zfill']\n"
     ]
    }
   ],
   "source": [
    "print(dir(name))"
   ]
  },
  {
   "cell_type": "code",
   "execution_count": 22,
   "id": "cc8598cf",
   "metadata": {},
   "outputs": [
    {
     "data": {
      "text/plain": [
       "'Vena Energy'"
      ]
     },
     "execution_count": 22,
     "metadata": {},
     "output_type": "execute_result"
    }
   ],
   "source": [
    "name"
   ]
  },
  {
   "cell_type": "markdown",
   "id": "02d07efc",
   "metadata": {},
   "source": [
    "# case related methods"
   ]
  },
  {
   "cell_type": "code",
   "execution_count": 23,
   "id": "d6f25daf",
   "metadata": {},
   "outputs": [
    {
     "data": {
      "text/plain": [
       "'Vena Energy'"
      ]
     },
     "execution_count": 23,
     "metadata": {},
     "output_type": "execute_result"
    }
   ],
   "source": [
    "name"
   ]
  },
  {
   "cell_type": "code",
   "execution_count": 24,
   "id": "b770e870",
   "metadata": {},
   "outputs": [
    {
     "data": {
      "text/plain": [
       "'VENA ENERGY'"
      ]
     },
     "execution_count": 24,
     "metadata": {},
     "output_type": "execute_result"
    }
   ],
   "source": [
    "name.upper()"
   ]
  },
  {
   "cell_type": "code",
   "execution_count": 25,
   "id": "69e6632b",
   "metadata": {},
   "outputs": [
    {
     "data": {
      "text/plain": [
       "'Vena Energy'"
      ]
     },
     "execution_count": 25,
     "metadata": {},
     "output_type": "execute_result"
    }
   ],
   "source": [
    "name"
   ]
  },
  {
   "cell_type": "code",
   "execution_count": 26,
   "id": "b7ba4942",
   "metadata": {},
   "outputs": [
    {
     "data": {
      "text/plain": [
       "'vena energy'"
      ]
     },
     "execution_count": 26,
     "metadata": {},
     "output_type": "execute_result"
    }
   ],
   "source": [
    "name.lower()"
   ]
  },
  {
   "cell_type": "code",
   "execution_count": 27,
   "id": "015d50e0",
   "metadata": {},
   "outputs": [
    {
     "data": {
      "text/plain": [
       "'vENA eNERGY'"
      ]
     },
     "execution_count": 27,
     "metadata": {},
     "output_type": "execute_result"
    }
   ],
   "source": [
    "name.swapcase()"
   ]
  },
  {
   "cell_type": "code",
   "execution_count": 28,
   "id": "3dfa20af",
   "metadata": {},
   "outputs": [
    {
     "data": {
      "text/plain": [
       "'Vena Energy'"
      ]
     },
     "execution_count": 28,
     "metadata": {},
     "output_type": "execute_result"
    }
   ],
   "source": [
    "name"
   ]
  },
  {
   "cell_type": "code",
   "execution_count": 29,
   "id": "609f0dff",
   "metadata": {},
   "outputs": [
    {
     "data": {
      "text/plain": [
       "'Vena Energy'"
      ]
     },
     "execution_count": 29,
     "metadata": {},
     "output_type": "execute_result"
    }
   ],
   "source": [
    "name"
   ]
  },
  {
   "cell_type": "code",
   "execution_count": 31,
   "id": "ab8a9abe",
   "metadata": {},
   "outputs": [
    {
     "data": {
      "text/plain": [
       "'vena energy'"
      ]
     },
     "execution_count": 31,
     "metadata": {},
     "output_type": "execute_result"
    }
   ],
   "source": [
    "name.casefold()"
   ]
  },
  {
   "cell_type": "code",
   "execution_count": 32,
   "id": "538387f9",
   "metadata": {},
   "outputs": [],
   "source": [
    "name='vena energy'"
   ]
  },
  {
   "cell_type": "code",
   "execution_count": 33,
   "id": "066a8ac8",
   "metadata": {},
   "outputs": [
    {
     "data": {
      "text/plain": [
       "'vena energy'"
      ]
     },
     "execution_count": 33,
     "metadata": {},
     "output_type": "execute_result"
    }
   ],
   "source": [
    "name"
   ]
  },
  {
   "cell_type": "code",
   "execution_count": 34,
   "id": "f29e4718",
   "metadata": {},
   "outputs": [
    {
     "data": {
      "text/plain": [
       "'Vena Energy'"
      ]
     },
     "execution_count": 34,
     "metadata": {},
     "output_type": "execute_result"
    }
   ],
   "source": [
    "name.title()"
   ]
  },
  {
   "cell_type": "code",
   "execution_count": 35,
   "id": "5deae5ef",
   "metadata": {},
   "outputs": [
    {
     "data": {
      "text/plain": [
       "'vena energy'"
      ]
     },
     "execution_count": 35,
     "metadata": {},
     "output_type": "execute_result"
    }
   ],
   "source": [
    "name"
   ]
  },
  {
   "cell_type": "code",
   "execution_count": 36,
   "id": "cf6d76b4",
   "metadata": {},
   "outputs": [
    {
     "data": {
      "text/plain": [
       "'Vena energy'"
      ]
     },
     "execution_count": 36,
     "metadata": {},
     "output_type": "execute_result"
    }
   ],
   "source": [
    "name.capitalize()"
   ]
  },
  {
   "cell_type": "markdown",
   "id": "e02a591c",
   "metadata": {},
   "source": [
    "# Checks "
   ]
  },
  {
   "cell_type": "code",
   "execution_count": 37,
   "id": "c44bc5cb",
   "metadata": {},
   "outputs": [],
   "source": [
    "tech=\"Python\""
   ]
  },
  {
   "cell_type": "code",
   "execution_count": 38,
   "id": "183209bc",
   "metadata": {},
   "outputs": [
    {
     "data": {
      "text/plain": [
       "False"
      ]
     },
     "execution_count": 38,
     "metadata": {},
     "output_type": "execute_result"
    }
   ],
   "source": [
    "tech.isupper()"
   ]
  },
  {
   "cell_type": "code",
   "execution_count": 51,
   "id": "5431c494",
   "metadata": {},
   "outputs": [],
   "source": [
    "trainer='RAGHUL'"
   ]
  },
  {
   "cell_type": "code",
   "execution_count": 52,
   "id": "e065c20b",
   "metadata": {},
   "outputs": [
    {
     "data": {
      "text/plain": [
       "True"
      ]
     },
     "execution_count": 52,
     "metadata": {},
     "output_type": "execute_result"
    }
   ],
   "source": [
    "trainer.isupper()"
   ]
  },
  {
   "cell_type": "code",
   "execution_count": 39,
   "id": "c20972bd",
   "metadata": {},
   "outputs": [
    {
     "data": {
      "text/plain": [
       "False"
      ]
     },
     "execution_count": 39,
     "metadata": {},
     "output_type": "execute_result"
    }
   ],
   "source": [
    "tech.islower()"
   ]
  },
  {
   "cell_type": "code",
   "execution_count": 40,
   "id": "b72492b9",
   "metadata": {},
   "outputs": [
    {
     "data": {
      "text/plain": [
       "True"
      ]
     },
     "execution_count": 40,
     "metadata": {},
     "output_type": "execute_result"
    }
   ],
   "source": [
    "tech.istitle()"
   ]
  },
  {
   "cell_type": "code",
   "execution_count": 41,
   "id": "106c4b66",
   "metadata": {},
   "outputs": [
    {
     "data": {
      "text/plain": [
       "True"
      ]
     },
     "execution_count": 41,
     "metadata": {},
     "output_type": "execute_result"
    }
   ],
   "source": [
    "tech.isprintable()"
   ]
  },
  {
   "cell_type": "code",
   "execution_count": 42,
   "id": "454d4487",
   "metadata": {},
   "outputs": [
    {
     "data": {
      "text/plain": [
       "False"
      ]
     },
     "execution_count": 42,
     "metadata": {},
     "output_type": "execute_result"
    }
   ],
   "source": [
    "tech.isdecimal()"
   ]
  },
  {
   "cell_type": "code",
   "execution_count": 43,
   "id": "5b60376e",
   "metadata": {},
   "outputs": [],
   "source": [
    "age=\"40\""
   ]
  },
  {
   "cell_type": "code",
   "execution_count": 44,
   "id": "4c81e0e6",
   "metadata": {},
   "outputs": [
    {
     "data": {
      "text/plain": [
       "True"
      ]
     },
     "execution_count": 44,
     "metadata": {},
     "output_type": "execute_result"
    }
   ],
   "source": [
    "age.isdecimal()"
   ]
  },
  {
   "cell_type": "code",
   "execution_count": 45,
   "id": "8aa9e60b",
   "metadata": {},
   "outputs": [
    {
     "data": {
      "text/plain": [
       "False"
      ]
     },
     "execution_count": 45,
     "metadata": {},
     "output_type": "execute_result"
    }
   ],
   "source": [
    "age.isspace()"
   ]
  },
  {
   "cell_type": "code",
   "execution_count": 46,
   "id": "2fd5e2a0",
   "metadata": {},
   "outputs": [],
   "source": [
    "manager=' '"
   ]
  },
  {
   "cell_type": "code",
   "execution_count": 48,
   "id": "2510a12a",
   "metadata": {},
   "outputs": [
    {
     "data": {
      "text/plain": [
       "True"
      ]
     },
     "execution_count": 48,
     "metadata": {},
     "output_type": "execute_result"
    }
   ],
   "source": [
    "manager.isspace()"
   ]
  },
  {
   "cell_type": "code",
   "execution_count": 53,
   "id": "e7bbe52c",
   "metadata": {},
   "outputs": [],
   "source": [
    "empid=\"SC 1490767\""
   ]
  },
  {
   "cell_type": "code",
   "execution_count": 54,
   "id": "7c932079",
   "metadata": {},
   "outputs": [
    {
     "data": {
      "text/plain": [
       "False"
      ]
     },
     "execution_count": 54,
     "metadata": {},
     "output_type": "execute_result"
    }
   ],
   "source": [
    "empid.isalnum()"
   ]
  },
  {
   "cell_type": "code",
   "execution_count": 55,
   "id": "519938fd",
   "metadata": {},
   "outputs": [
    {
     "data": {
      "text/plain": [
       "False"
      ]
     },
     "execution_count": 55,
     "metadata": {},
     "output_type": "execute_result"
    }
   ],
   "source": [
    "empid.isspace()"
   ]
  },
  {
   "cell_type": "markdown",
   "id": "7e1118bf",
   "metadata": {},
   "source": [
    "# index , find, rindex , rfind"
   ]
  },
  {
   "cell_type": "code",
   "execution_count": 56,
   "id": "61b1d9a1",
   "metadata": {},
   "outputs": [
    {
     "data": {
      "text/plain": [
       "'vena energy'"
      ]
     },
     "execution_count": 56,
     "metadata": {},
     "output_type": "execute_result"
    }
   ],
   "source": [
    "name"
   ]
  },
  {
   "cell_type": "code",
   "execution_count": 57,
   "id": "af368aa6",
   "metadata": {},
   "outputs": [
    {
     "data": {
      "text/plain": [
       "3"
      ]
     },
     "execution_count": 57,
     "metadata": {},
     "output_type": "execute_result"
    }
   ],
   "source": [
    "name.index('a')"
   ]
  },
  {
   "cell_type": "code",
   "execution_count": 58,
   "id": "99f1aefd",
   "metadata": {},
   "outputs": [
    {
     "data": {
      "text/plain": [
       "1"
      ]
     },
     "execution_count": 58,
     "metadata": {},
     "output_type": "execute_result"
    }
   ],
   "source": [
    "name.index('e')"
   ]
  },
  {
   "cell_type": "code",
   "execution_count": 59,
   "id": "5cffe824",
   "metadata": {},
   "outputs": [
    {
     "data": {
      "text/plain": [
       "7"
      ]
     },
     "execution_count": 59,
     "metadata": {},
     "output_type": "execute_result"
    }
   ],
   "source": [
    "name.rindex('e')"
   ]
  },
  {
   "cell_type": "code",
   "execution_count": 60,
   "id": "d47565cf",
   "metadata": {},
   "outputs": [
    {
     "data": {
      "text/plain": [
       "3"
      ]
     },
     "execution_count": 60,
     "metadata": {},
     "output_type": "execute_result"
    }
   ],
   "source": [
    "name.find('a')"
   ]
  },
  {
   "cell_type": "code",
   "execution_count": 61,
   "id": "f68a66cd",
   "metadata": {},
   "outputs": [
    {
     "data": {
      "text/plain": [
       "1"
      ]
     },
     "execution_count": 61,
     "metadata": {},
     "output_type": "execute_result"
    }
   ],
   "source": [
    "name.find('e')"
   ]
  },
  {
   "cell_type": "code",
   "execution_count": 62,
   "id": "055ed98f",
   "metadata": {},
   "outputs": [
    {
     "data": {
      "text/plain": [
       "7"
      ]
     },
     "execution_count": 62,
     "metadata": {},
     "output_type": "execute_result"
    }
   ],
   "source": [
    "name.rfind('e')"
   ]
  },
  {
   "cell_type": "code",
   "execution_count": 63,
   "id": "1b919547",
   "metadata": {},
   "outputs": [
    {
     "data": {
      "text/plain": [
       "'vena energy'"
      ]
     },
     "execution_count": 63,
     "metadata": {},
     "output_type": "execute_result"
    }
   ],
   "source": [
    "name"
   ]
  },
  {
   "cell_type": "code",
   "execution_count": 64,
   "id": "fb7e040a",
   "metadata": {},
   "outputs": [
    {
     "ename": "ValueError",
     "evalue": "substring not found",
     "output_type": "error",
     "traceback": [
      "\u001b[1;31m---------------------------------------------------------------------------\u001b[0m",
      "\u001b[1;31mValueError\u001b[0m                                Traceback (most recent call last)",
      "Input \u001b[1;32mIn [64]\u001b[0m, in \u001b[0;36m<cell line: 1>\u001b[1;34m()\u001b[0m\n\u001b[1;32m----> 1\u001b[0m \u001b[43mname\u001b[49m\u001b[38;5;241;43m.\u001b[39;49m\u001b[43mindex\u001b[49m\u001b[43m(\u001b[49m\u001b[38;5;124;43m'\u001b[39;49m\u001b[38;5;124;43mz\u001b[39;49m\u001b[38;5;124;43m'\u001b[39;49m\u001b[43m)\u001b[49m\n",
      "\u001b[1;31mValueError\u001b[0m: substring not found"
     ]
    }
   ],
   "source": [
    "name.index('z')"
   ]
  },
  {
   "cell_type": "code",
   "execution_count": 65,
   "id": "2c888755",
   "metadata": {},
   "outputs": [
    {
     "data": {
      "text/plain": [
       "-1"
      ]
     },
     "execution_count": 65,
     "metadata": {},
     "output_type": "execute_result"
    }
   ],
   "source": [
    "name.find('z')"
   ]
  },
  {
   "cell_type": "markdown",
   "id": "1b906206",
   "metadata": {},
   "source": [
    "# center , ljust, rjust , zfill"
   ]
  },
  {
   "cell_type": "code",
   "execution_count": 66,
   "id": "899354e3",
   "metadata": {},
   "outputs": [
    {
     "data": {
      "text/plain": [
       "'vena energy'"
      ]
     },
     "execution_count": 66,
     "metadata": {},
     "output_type": "execute_result"
    }
   ],
   "source": [
    "name"
   ]
  },
  {
   "cell_type": "code",
   "execution_count": 67,
   "id": "e051180c",
   "metadata": {},
   "outputs": [
    {
     "data": {
      "text/plain": [
       "'    vena energy     '"
      ]
     },
     "execution_count": 67,
     "metadata": {},
     "output_type": "execute_result"
    }
   ],
   "source": [
    "name.center(20)"
   ]
  },
  {
   "cell_type": "code",
   "execution_count": 68,
   "id": "183fbf2b",
   "metadata": {},
   "outputs": [
    {
     "data": {
      "text/plain": [
       "'....vena energy.....'"
      ]
     },
     "execution_count": 68,
     "metadata": {},
     "output_type": "execute_result"
    }
   ],
   "source": [
    "name.center(20,'.')"
   ]
  },
  {
   "cell_type": "code",
   "execution_count": 69,
   "id": "609baadc",
   "metadata": {},
   "outputs": [
    {
     "data": {
      "text/plain": [
       "'----vena energy-----'"
      ]
     },
     "execution_count": 69,
     "metadata": {},
     "output_type": "execute_result"
    }
   ],
   "source": [
    "name.center(20,'-')"
   ]
  },
  {
   "cell_type": "code",
   "execution_count": 71,
   "id": "516c4937",
   "metadata": {},
   "outputs": [
    {
     "data": {
      "text/plain": [
       "'___________________vena energy____________________'"
      ]
     },
     "execution_count": 71,
     "metadata": {},
     "output_type": "execute_result"
    }
   ],
   "source": [
    "name.center(50,'_')"
   ]
  },
  {
   "cell_type": "code",
   "execution_count": 72,
   "id": "99d35928",
   "metadata": {},
   "outputs": [
    {
     "data": {
      "text/plain": [
       "'vena energy_______________________________________'"
      ]
     },
     "execution_count": 72,
     "metadata": {},
     "output_type": "execute_result"
    }
   ],
   "source": [
    "name.ljust(50,'_')"
   ]
  },
  {
   "cell_type": "code",
   "execution_count": 75,
   "id": "164de5d1",
   "metadata": {},
   "outputs": [
    {
     "data": {
      "text/plain": [
       "'vena energy.......................................'"
      ]
     },
     "execution_count": 75,
     "metadata": {},
     "output_type": "execute_result"
    }
   ],
   "source": [
    "name.ljust(50,'.')"
   ]
  },
  {
   "cell_type": "code",
   "execution_count": 76,
   "id": "95c0c598",
   "metadata": {},
   "outputs": [
    {
     "data": {
      "text/plain": [
       "'vena energy                                       '"
      ]
     },
     "execution_count": 76,
     "metadata": {},
     "output_type": "execute_result"
    }
   ],
   "source": [
    "name.ljust(50)"
   ]
  },
  {
   "cell_type": "code",
   "execution_count": 77,
   "id": "eac24507",
   "metadata": {},
   "outputs": [
    {
     "data": {
      "text/plain": [
       "'                                       vena energy'"
      ]
     },
     "execution_count": 77,
     "metadata": {},
     "output_type": "execute_result"
    }
   ],
   "source": [
    "name.rjust(50)"
   ]
  },
  {
   "cell_type": "code",
   "execution_count": 78,
   "id": "4fe7daa9",
   "metadata": {},
   "outputs": [
    {
     "data": {
      "text/plain": [
       "'~~~~~~~~~~~~~~~~~~~~~~~~~~~~~~~~~~~~~~~vena energy'"
      ]
     },
     "execution_count": 78,
     "metadata": {},
     "output_type": "execute_result"
    }
   ],
   "source": [
    "name.rjust(50,'~')"
   ]
  },
  {
   "cell_type": "code",
   "execution_count": 79,
   "id": "868ff9f5",
   "metadata": {},
   "outputs": [],
   "source": [
    "salary='5000000'"
   ]
  },
  {
   "cell_type": "code",
   "execution_count": 80,
   "id": "6cb676a4",
   "metadata": {},
   "outputs": [
    {
     "data": {
      "text/plain": [
       "'0005000000'"
      ]
     },
     "execution_count": 80,
     "metadata": {},
     "output_type": "execute_result"
    }
   ],
   "source": [
    "salary.rjust(10,'0')"
   ]
  },
  {
   "cell_type": "code",
   "execution_count": 81,
   "id": "10827c61",
   "metadata": {},
   "outputs": [
    {
     "data": {
      "text/plain": [
       "'5000000000'"
      ]
     },
     "execution_count": 81,
     "metadata": {},
     "output_type": "execute_result"
    }
   ],
   "source": [
    "salary.ljust(10,'0')"
   ]
  },
  {
   "cell_type": "code",
   "execution_count": 82,
   "id": "26281805",
   "metadata": {},
   "outputs": [
    {
     "data": {
      "text/plain": [
       "'0500000000'"
      ]
     },
     "execution_count": 82,
     "metadata": {},
     "output_type": "execute_result"
    }
   ],
   "source": [
    "salary.center(10,'0')"
   ]
  },
  {
   "cell_type": "code",
   "execution_count": 83,
   "id": "f456500c",
   "metadata": {},
   "outputs": [
    {
     "data": {
      "text/plain": [
       "'0005000000'"
      ]
     },
     "execution_count": 83,
     "metadata": {},
     "output_type": "execute_result"
    }
   ],
   "source": [
    "salary.zfill(10)"
   ]
  },
  {
   "cell_type": "code",
   "execution_count": null,
   "id": "1aa494e2",
   "metadata": {},
   "outputs": [],
   "source": []
  }
 ],
 "metadata": {
  "kernelspec": {
   "display_name": "Python 3 (ipykernel)",
   "language": "python",
   "name": "python3"
  },
  "language_info": {
   "codemirror_mode": {
    "name": "ipython",
    "version": 3
   },
   "file_extension": ".py",
   "mimetype": "text/x-python",
   "name": "python",
   "nbconvert_exporter": "python",
   "pygments_lexer": "ipython3",
   "version": "3.8.10"
  }
 },
 "nbformat": 4,
 "nbformat_minor": 5
}
