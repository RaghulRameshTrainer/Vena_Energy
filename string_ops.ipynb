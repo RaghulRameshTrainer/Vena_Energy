{
 "cells": [
  {
   "cell_type": "code",
   "execution_count": 4,
   "id": "329dc976",
   "metadata": {},
   "outputs": [],
   "source": [
    "name='Vena Energy'"
   ]
  },
  {
   "cell_type": "code",
   "execution_count": 5,
   "id": "0f5c2118",
   "metadata": {},
   "outputs": [
    {
     "data": {
      "text/plain": [
       "str"
      ]
     },
     "execution_count": 5,
     "metadata": {},
     "output_type": "execute_result"
    }
   ],
   "source": [
    "type(name)"
   ]
  },
  {
   "cell_type": "code",
   "execution_count": 3,
   "id": "5128407a",
   "metadata": {},
   "outputs": [
    {
     "data": {
      "text/plain": [
       "11"
      ]
     },
     "execution_count": 3,
     "metadata": {},
     "output_type": "execute_result"
    }
   ],
   "source": [
    "len(name)"
   ]
  },
  {
   "cell_type": "markdown",
   "id": "a16ba3dc",
   "metadata": {},
   "source": [
    "\n",
    "# slicing"
   ]
  },
  {
   "cell_type": "code",
   "execution_count": 6,
   "id": "819c53ef",
   "metadata": {},
   "outputs": [
    {
     "data": {
      "text/plain": [
       "'V'"
      ]
     },
     "execution_count": 6,
     "metadata": {},
     "output_type": "execute_result"
    }
   ],
   "source": [
    "name[0]"
   ]
  },
  {
   "cell_type": "code",
   "execution_count": 7,
   "id": "80c7abdf",
   "metadata": {},
   "outputs": [
    {
     "data": {
      "text/plain": [
       "'e'"
      ]
     },
     "execution_count": 7,
     "metadata": {},
     "output_type": "execute_result"
    }
   ],
   "source": [
    "name[1]"
   ]
  },
  {
   "cell_type": "code",
   "execution_count": 8,
   "id": "218517d3",
   "metadata": {},
   "outputs": [
    {
     "data": {
      "text/plain": [
       "'Vena Energy'"
      ]
     },
     "execution_count": 8,
     "metadata": {},
     "output_type": "execute_result"
    }
   ],
   "source": [
    "name"
   ]
  },
  {
   "cell_type": "code",
   "execution_count": 9,
   "id": "99394f17",
   "metadata": {},
   "outputs": [
    {
     "data": {
      "text/plain": [
       "'n'"
      ]
     },
     "execution_count": 9,
     "metadata": {},
     "output_type": "execute_result"
    }
   ],
   "source": [
    "name[2]"
   ]
  },
  {
   "cell_type": "code",
   "execution_count": 10,
   "id": "5f4eb3f3",
   "metadata": {},
   "outputs": [
    {
     "data": {
      "text/plain": [
       "'y'"
      ]
     },
     "execution_count": 10,
     "metadata": {},
     "output_type": "execute_result"
    }
   ],
   "source": [
    "name[10]"
   ]
  },
  {
   "cell_type": "code",
   "execution_count": 11,
   "id": "cb39feb5",
   "metadata": {},
   "outputs": [
    {
     "data": {
      "text/plain": [
       "'y'"
      ]
     },
     "execution_count": 11,
     "metadata": {},
     "output_type": "execute_result"
    }
   ],
   "source": [
    "name[-1]"
   ]
  },
  {
   "cell_type": "code",
   "execution_count": 12,
   "id": "51874f32",
   "metadata": {},
   "outputs": [
    {
     "data": {
      "text/plain": [
       "'g'"
      ]
     },
     "execution_count": 12,
     "metadata": {},
     "output_type": "execute_result"
    }
   ],
   "source": [
    "name[-2]"
   ]
  },
  {
   "cell_type": "code",
   "execution_count": 13,
   "id": "c679f5de",
   "metadata": {},
   "outputs": [
    {
     "data": {
      "text/plain": [
       "'r'"
      ]
     },
     "execution_count": 13,
     "metadata": {},
     "output_type": "execute_result"
    }
   ],
   "source": [
    "name[-3]"
   ]
  },
  {
   "cell_type": "code",
   "execution_count": 14,
   "id": "4e2a6b57",
   "metadata": {},
   "outputs": [
    {
     "data": {
      "text/plain": [
       "'Vena Energy'"
      ]
     },
     "execution_count": 14,
     "metadata": {},
     "output_type": "execute_result"
    }
   ],
   "source": [
    "name"
   ]
  },
  {
   "cell_type": "code",
   "execution_count": 16,
   "id": "f04b8731",
   "metadata": {},
   "outputs": [
    {
     "data": {
      "text/plain": [
       "'Vena'"
      ]
     },
     "execution_count": 16,
     "metadata": {},
     "output_type": "execute_result"
    }
   ],
   "source": [
    "name[0:4]    # upper limit is not inclsive (exclusive)"
   ]
  },
  {
   "cell_type": "code",
   "execution_count": 17,
   "id": "f177c1fd",
   "metadata": {},
   "outputs": [
    {
     "data": {
      "text/plain": [
       "'Vena'"
      ]
     },
     "execution_count": 17,
     "metadata": {},
     "output_type": "execute_result"
    }
   ],
   "source": [
    "name[:4]"
   ]
  },
  {
   "cell_type": "code",
   "execution_count": 18,
   "id": "c61fc7b6",
   "metadata": {},
   "outputs": [
    {
     "data": {
      "text/plain": [
       "'Energy'"
      ]
     },
     "execution_count": 18,
     "metadata": {},
     "output_type": "execute_result"
    }
   ],
   "source": [
    "name[5:]"
   ]
  },
  {
   "cell_type": "code",
   "execution_count": 19,
   "id": "85020f02",
   "metadata": {},
   "outputs": [
    {
     "data": {
      "text/plain": [
       "'Energy'"
      ]
     },
     "execution_count": 19,
     "metadata": {},
     "output_type": "execute_result"
    }
   ],
   "source": [
    "name[5:11]"
   ]
  },
  {
   "cell_type": "code",
   "execution_count": 21,
   "id": "59022fba",
   "metadata": {},
   "outputs": [
    {
     "name": "stdout",
     "output_type": "stream",
     "text": [
      "['__add__', '__class__', '__contains__', '__delattr__', '__dir__', '__doc__', '__eq__', '__format__', '__ge__', '__getattribute__', '__getitem__', '__getnewargs__', '__gt__', '__hash__', '__init__', '__init_subclass__', '__iter__', '__le__', '__len__', '__lt__', '__mod__', '__mul__', '__ne__', '__new__', '__reduce__', '__reduce_ex__', '__repr__', '__rmod__', '__rmul__', '__setattr__', '__sizeof__', '__str__', '__subclasshook__', 'capitalize', 'casefold', 'center', 'count', 'encode', 'endswith', 'expandtabs', 'find', 'format', 'format_map', 'index', 'isalnum', 'isalpha', 'isascii', 'isdecimal', 'isdigit', 'isidentifier', 'islower', 'isnumeric', 'isprintable', 'isspace', 'istitle', 'isupper', 'join', 'ljust', 'lower', 'lstrip', 'maketrans', 'partition', 'replace', 'rfind', 'rindex', 'rjust', 'rpartition', 'rsplit', 'rstrip', 'split', 'splitlines', 'startswith', 'strip', 'swapcase', 'title', 'translate', 'upper', 'zfill']\n"
     ]
    }
   ],
   "source": [
    "print(dir(name))"
   ]
  },
  {
   "cell_type": "code",
   "execution_count": 22,
   "id": "f839ecd7",
   "metadata": {},
   "outputs": [
    {
     "data": {
      "text/plain": [
       "'Vena Energy'"
      ]
     },
     "execution_count": 22,
     "metadata": {},
     "output_type": "execute_result"
    }
   ],
   "source": [
    "name"
   ]
  },
  {
   "cell_type": "markdown",
   "id": "53ca1dd4",
   "metadata": {},
   "source": [
    "# case related methods"
   ]
  },
  {
   "cell_type": "code",
   "execution_count": 23,
   "id": "8d1b06a2",
   "metadata": {},
   "outputs": [
    {
     "data": {
      "text/plain": [
       "'Vena Energy'"
      ]
     },
     "execution_count": 23,
     "metadata": {},
     "output_type": "execute_result"
    }
   ],
   "source": [
    "name"
   ]
  },
  {
   "cell_type": "code",
   "execution_count": 24,
   "id": "9c9ecc87",
   "metadata": {},
   "outputs": [
    {
     "data": {
      "text/plain": [
       "'VENA ENERGY'"
      ]
     },
     "execution_count": 24,
     "metadata": {},
     "output_type": "execute_result"
    }
   ],
   "source": [
    "name.upper()"
   ]
  },
  {
   "cell_type": "code",
   "execution_count": 25,
   "id": "f2c17a6c",
   "metadata": {},
   "outputs": [
    {
     "data": {
      "text/plain": [
       "'Vena Energy'"
      ]
     },
     "execution_count": 25,
     "metadata": {},
     "output_type": "execute_result"
    }
   ],
   "source": [
    "name"
   ]
  },
  {
   "cell_type": "code",
   "execution_count": 26,
   "id": "4190bd13",
   "metadata": {},
   "outputs": [
    {
     "data": {
      "text/plain": [
       "'vena energy'"
      ]
     },
     "execution_count": 26,
     "metadata": {},
     "output_type": "execute_result"
    }
   ],
   "source": [
    "name.lower()"
   ]
  },
  {
   "cell_type": "code",
   "execution_count": 27,
   "id": "8b0b1774",
   "metadata": {},
   "outputs": [
    {
     "data": {
      "text/plain": [
       "'vENA eNERGY'"
      ]
     },
     "execution_count": 27,
     "metadata": {},
     "output_type": "execute_result"
    }
   ],
   "source": [
    "name.swapcase()"
   ]
  },
  {
   "cell_type": "code",
   "execution_count": 28,
   "id": "9bcb4f45",
   "metadata": {},
   "outputs": [
    {
     "data": {
      "text/plain": [
       "'Vena Energy'"
      ]
     },
     "execution_count": 28,
     "metadata": {},
     "output_type": "execute_result"
    }
   ],
   "source": [
    "name"
   ]
  },
  {
   "cell_type": "code",
   "execution_count": 29,
   "id": "9f08f8b0",
   "metadata": {},
   "outputs": [
    {
     "data": {
      "text/plain": [
       "'Vena Energy'"
      ]
     },
     "execution_count": 29,
     "metadata": {},
     "output_type": "execute_result"
    }
   ],
   "source": [
    "name"
   ]
  },
  {
   "cell_type": "code",
   "execution_count": 31,
   "id": "da1ce7d4",
   "metadata": {},
   "outputs": [
    {
     "data": {
      "text/plain": [
       "'vena energy'"
      ]
     },
     "execution_count": 31,
     "metadata": {},
     "output_type": "execute_result"
    }
   ],
   "source": [
    "name.casefold()"
   ]
  },
  {
   "cell_type": "code",
   "execution_count": 32,
   "id": "0cec20a3",
   "metadata": {},
   "outputs": [],
   "source": [
    "name='vena energy'"
   ]
  },
  {
   "cell_type": "code",
   "execution_count": 33,
   "id": "c03422b0",
   "metadata": {},
   "outputs": [
    {
     "data": {
      "text/plain": [
       "'vena energy'"
      ]
     },
     "execution_count": 33,
     "metadata": {},
     "output_type": "execute_result"
    }
   ],
   "source": [
    "name"
   ]
  },
  {
   "cell_type": "code",
   "execution_count": 34,
   "id": "b14b87fb",
   "metadata": {},
   "outputs": [
    {
     "data": {
      "text/plain": [
       "'Vena Energy'"
      ]
     },
     "execution_count": 34,
     "metadata": {},
     "output_type": "execute_result"
    }
   ],
   "source": [
    "name.title()"
   ]
  },
  {
   "cell_type": "code",
   "execution_count": 35,
   "id": "77bb3823",
   "metadata": {},
   "outputs": [
    {
     "data": {
      "text/plain": [
       "'vena energy'"
      ]
     },
     "execution_count": 35,
     "metadata": {},
     "output_type": "execute_result"
    }
   ],
   "source": [
    "name"
   ]
  },
  {
   "cell_type": "code",
   "execution_count": 36,
   "id": "fa8d4549",
   "metadata": {},
   "outputs": [
    {
     "data": {
      "text/plain": [
       "'Vena energy'"
      ]
     },
     "execution_count": 36,
     "metadata": {},
     "output_type": "execute_result"
    }
   ],
   "source": [
    "name.capitalize()"
   ]
  },
  {
   "cell_type": "markdown",
   "id": "a247529e",
   "metadata": {},
   "source": [
    "# Checks "
   ]
  },
  {
   "cell_type": "code",
   "execution_count": 37,
   "id": "10604adf",
   "metadata": {},
   "outputs": [],
   "source": [
    "tech=\"Python\""
   ]
  },
  {
   "cell_type": "code",
   "execution_count": 38,
   "id": "996dcf6a",
   "metadata": {},
   "outputs": [
    {
     "data": {
      "text/plain": [
       "False"
      ]
     },
     "execution_count": 38,
     "metadata": {},
     "output_type": "execute_result"
    }
   ],
   "source": [
    "tech.isupper()"
   ]
  },
  {
   "cell_type": "code",
   "execution_count": 51,
   "id": "3293d6b3",
   "metadata": {},
   "outputs": [],
   "source": [
    "trainer='RAGHUL'"
   ]
  },
  {
   "cell_type": "code",
   "execution_count": 52,
   "id": "af43b790",
   "metadata": {},
   "outputs": [
    {
     "data": {
      "text/plain": [
       "True"
      ]
     },
     "execution_count": 52,
     "metadata": {},
     "output_type": "execute_result"
    }
   ],
   "source": [
    "trainer.isupper()"
   ]
  },
  {
   "cell_type": "code",
   "execution_count": 39,
   "id": "363759fd",
   "metadata": {},
   "outputs": [
    {
     "data": {
      "text/plain": [
       "False"
      ]
     },
     "execution_count": 39,
     "metadata": {},
     "output_type": "execute_result"
    }
   ],
   "source": [
    "tech.islower()"
   ]
  },
  {
   "cell_type": "code",
   "execution_count": 40,
   "id": "c0d90763",
   "metadata": {},
   "outputs": [
    {
     "data": {
      "text/plain": [
       "True"
      ]
     },
     "execution_count": 40,
     "metadata": {},
     "output_type": "execute_result"
    }
   ],
   "source": [
    "tech.istitle()"
   ]
  },
  {
   "cell_type": "code",
   "execution_count": 41,
   "id": "2bc08d42",
   "metadata": {},
   "outputs": [
    {
     "data": {
      "text/plain": [
       "True"
      ]
     },
     "execution_count": 41,
     "metadata": {},
     "output_type": "execute_result"
    }
   ],
   "source": [
    "tech.isprintable()"
   ]
  },
  {
   "cell_type": "code",
   "execution_count": 42,
   "id": "91f0a9c3",
   "metadata": {},
   "outputs": [
    {
     "data": {
      "text/plain": [
       "False"
      ]
     },
     "execution_count": 42,
     "metadata": {},
     "output_type": "execute_result"
    }
   ],
   "source": [
    "tech.isdecimal()"
   ]
  },
  {
   "cell_type": "code",
   "execution_count": 43,
   "id": "72950f84",
   "metadata": {},
   "outputs": [],
   "source": [
    "age=\"40\""
   ]
  },
  {
   "cell_type": "code",
   "execution_count": 44,
   "id": "a6d67df4",
   "metadata": {},
   "outputs": [
    {
     "data": {
      "text/plain": [
       "True"
      ]
     },
     "execution_count": 44,
     "metadata": {},
     "output_type": "execute_result"
    }
   ],
   "source": [
    "age.isdecimal()"
   ]
  },
  {
   "cell_type": "code",
   "execution_count": 45,
   "id": "91e19230",
   "metadata": {},
   "outputs": [
    {
     "data": {
      "text/plain": [
       "False"
      ]
     },
     "execution_count": 45,
     "metadata": {},
     "output_type": "execute_result"
    }
   ],
   "source": [
    "age.isspace()"
   ]
  },
  {
   "cell_type": "code",
   "execution_count": 46,
   "id": "a28303ba",
   "metadata": {},
   "outputs": [],
   "source": [
    "manager=' '"
   ]
  },
  {
   "cell_type": "code",
   "execution_count": 48,
   "id": "838bb1b8",
   "metadata": {},
   "outputs": [
    {
     "data": {
      "text/plain": [
       "True"
      ]
     },
     "execution_count": 48,
     "metadata": {},
     "output_type": "execute_result"
    }
   ],
   "source": [
    "manager.isspace()"
   ]
  },
  {
   "cell_type": "code",
   "execution_count": 53,
   "id": "f575eab9",
   "metadata": {},
   "outputs": [],
   "source": [
    "empid=\"SC 1490767\""
   ]
  },
  {
   "cell_type": "code",
   "execution_count": 54,
   "id": "c00871d9",
   "metadata": {},
   "outputs": [
    {
     "data": {
      "text/plain": [
       "False"
      ]
     },
     "execution_count": 54,
     "metadata": {},
     "output_type": "execute_result"
    }
   ],
   "source": [
    "empid.isalnum()"
   ]
  },
  {
   "cell_type": "code",
   "execution_count": 55,
   "id": "b306940a",
   "metadata": {},
   "outputs": [
    {
     "data": {
      "text/plain": [
       "False"
      ]
     },
     "execution_count": 55,
     "metadata": {},
     "output_type": "execute_result"
    }
   ],
   "source": [
    "empid.isspace()"
   ]
  },
  {
   "cell_type": "markdown",
   "id": "a63318f8",
   "metadata": {},
   "source": [
    "# index , find, rindex , rfind"
   ]
  },
  {
   "cell_type": "code",
   "execution_count": 56,
   "id": "0bb4d55f",
   "metadata": {},
   "outputs": [
    {
     "data": {
      "text/plain": [
       "'vena energy'"
      ]
     },
     "execution_count": 56,
     "metadata": {},
     "output_type": "execute_result"
    }
   ],
   "source": [
    "name"
   ]
  },
  {
   "cell_type": "code",
   "execution_count": 57,
   "id": "77cdb657",
   "metadata": {},
   "outputs": [
    {
     "data": {
      "text/plain": [
       "3"
      ]
     },
     "execution_count": 57,
     "metadata": {},
     "output_type": "execute_result"
    }
   ],
   "source": [
    "name.index('a')"
   ]
  },
  {
   "cell_type": "code",
   "execution_count": 58,
   "id": "5cf8c1f1",
   "metadata": {},
   "outputs": [
    {
     "data": {
      "text/plain": [
       "1"
      ]
     },
     "execution_count": 58,
     "metadata": {},
     "output_type": "execute_result"
    }
   ],
   "source": [
    "name.index('e')"
   ]
  },
  {
   "cell_type": "code",
   "execution_count": 59,
   "id": "4b40e804",
   "metadata": {},
   "outputs": [
    {
     "data": {
      "text/plain": [
       "7"
      ]
     },
     "execution_count": 59,
     "metadata": {},
     "output_type": "execute_result"
    }
   ],
   "source": [
    "name.rindex('e')"
   ]
  },
  {
   "cell_type": "code",
   "execution_count": 60,
   "id": "772415ed",
   "metadata": {},
   "outputs": [
    {
     "data": {
      "text/plain": [
       "3"
      ]
     },
     "execution_count": 60,
     "metadata": {},
     "output_type": "execute_result"
    }
   ],
   "source": [
    "name.find('a')"
   ]
  },
  {
   "cell_type": "code",
   "execution_count": 61,
   "id": "fed503c7",
   "metadata": {},
   "outputs": [
    {
     "data": {
      "text/plain": [
       "1"
      ]
     },
     "execution_count": 61,
     "metadata": {},
     "output_type": "execute_result"
    }
   ],
   "source": [
    "name.find('e')"
   ]
  },
  {
   "cell_type": "code",
   "execution_count": 62,
   "id": "155a30d2",
   "metadata": {},
   "outputs": [
    {
     "data": {
      "text/plain": [
       "7"
      ]
     },
     "execution_count": 62,
     "metadata": {},
     "output_type": "execute_result"
    }
   ],
   "source": [
    "name.rfind('e')"
   ]
  },
  {
   "cell_type": "code",
   "execution_count": 63,
   "id": "714181ad",
   "metadata": {},
   "outputs": [
    {
     "data": {
      "text/plain": [
       "'vena energy'"
      ]
     },
     "execution_count": 63,
     "metadata": {},
     "output_type": "execute_result"
    }
   ],
   "source": [
    "name"
   ]
  },
  {
   "cell_type": "code",
   "execution_count": 64,
   "id": "1a481eb6",
   "metadata": {},
   "outputs": [
    {
     "ename": "ValueError",
     "evalue": "substring not found",
     "output_type": "error",
     "traceback": [
      "\u001b[1;31m---------------------------------------------------------------------------\u001b[0m",
      "\u001b[1;31mValueError\u001b[0m                                Traceback (most recent call last)",
      "Input \u001b[1;32mIn [64]\u001b[0m, in \u001b[0;36m<cell line: 1>\u001b[1;34m()\u001b[0m\n\u001b[1;32m----> 1\u001b[0m \u001b[43mname\u001b[49m\u001b[38;5;241;43m.\u001b[39;49m\u001b[43mindex\u001b[49m\u001b[43m(\u001b[49m\u001b[38;5;124;43m'\u001b[39;49m\u001b[38;5;124;43mz\u001b[39;49m\u001b[38;5;124;43m'\u001b[39;49m\u001b[43m)\u001b[49m\n",
      "\u001b[1;31mValueError\u001b[0m: substring not found"
     ]
    }
   ],
   "source": [
    "name.index('z')"
   ]
  },
  {
   "cell_type": "code",
   "execution_count": 65,
   "id": "604eb11c",
   "metadata": {},
   "outputs": [
    {
     "data": {
      "text/plain": [
       "-1"
      ]
     },
     "execution_count": 65,
     "metadata": {},
     "output_type": "execute_result"
    }
   ],
   "source": [
    "name.find('z')"
   ]
  },
  {
   "cell_type": "markdown",
   "id": "71c2807e",
   "metadata": {},
   "source": [
    "# center , ljust, rjust , zfill"
   ]
  },
  {
   "cell_type": "code",
   "execution_count": 66,
   "id": "0da61640",
   "metadata": {},
   "outputs": [
    {
     "data": {
      "text/plain": [
       "'vena energy'"
      ]
     },
     "execution_count": 66,
     "metadata": {},
     "output_type": "execute_result"
    }
   ],
   "source": [
    "name"
   ]
  },
  {
   "cell_type": "code",
   "execution_count": 67,
   "id": "160a5d3d",
   "metadata": {},
   "outputs": [
    {
     "data": {
      "text/plain": [
       "'    vena energy     '"
      ]
     },
     "execution_count": 67,
     "metadata": {},
     "output_type": "execute_result"
    }
   ],
   "source": [
    "name.center(20)"
   ]
  },
  {
   "cell_type": "code",
   "execution_count": 68,
   "id": "29f84fda",
   "metadata": {},
   "outputs": [
    {
     "data": {
      "text/plain": [
       "'....vena energy.....'"
      ]
     },
     "execution_count": 68,
     "metadata": {},
     "output_type": "execute_result"
    }
   ],
   "source": [
    "name.center(20,'.')"
   ]
  },
  {
   "cell_type": "code",
   "execution_count": 69,
   "id": "e8a9ea46",
   "metadata": {},
   "outputs": [
    {
     "data": {
      "text/plain": [
       "'----vena energy-----'"
      ]
     },
     "execution_count": 69,
     "metadata": {},
     "output_type": "execute_result"
    }
   ],
   "source": [
    "name.center(20,'-')"
   ]
  },
  {
   "cell_type": "code",
   "execution_count": 71,
   "id": "0d5f7411",
   "metadata": {},
   "outputs": [
    {
     "data": {
      "text/plain": [
       "'___________________vena energy____________________'"
      ]
     },
     "execution_count": 71,
     "metadata": {},
     "output_type": "execute_result"
    }
   ],
   "source": [
    "name.center(50,'_')"
   ]
  },
  {
   "cell_type": "code",
   "execution_count": 72,
   "id": "ae69c112",
   "metadata": {},
   "outputs": [
    {
     "data": {
      "text/plain": [
       "'vena energy_______________________________________'"
      ]
     },
     "execution_count": 72,
     "metadata": {},
     "output_type": "execute_result"
    }
   ],
   "source": [
    "name.ljust(50,'_')"
   ]
  },
  {
   "cell_type": "code",
   "execution_count": 75,
   "id": "aaeee8a9",
   "metadata": {},
   "outputs": [
    {
     "data": {
      "text/plain": [
       "'vena energy.......................................'"
      ]
     },
     "execution_count": 75,
     "metadata": {},
     "output_type": "execute_result"
    }
   ],
   "source": [
    "name.ljust(50,'.')"
   ]
  },
  {
   "cell_type": "code",
   "execution_count": 76,
   "id": "ecd7bef6",
   "metadata": {},
   "outputs": [
    {
     "data": {
      "text/plain": [
       "'vena energy                                       '"
      ]
     },
     "execution_count": 76,
     "metadata": {},
     "output_type": "execute_result"
    }
   ],
   "source": [
    "name.ljust(50)"
   ]
  },
  {
   "cell_type": "code",
   "execution_count": 77,
   "id": "d596e783",
   "metadata": {},
   "outputs": [
    {
     "data": {
      "text/plain": [
       "'                                       vena energy'"
      ]
     },
     "execution_count": 77,
     "metadata": {},
     "output_type": "execute_result"
    }
   ],
   "source": [
    "name.rjust(50)"
   ]
  },
  {
   "cell_type": "code",
   "execution_count": 78,
   "id": "ef680900",
   "metadata": {},
   "outputs": [
    {
     "data": {
      "text/plain": [
       "'~~~~~~~~~~~~~~~~~~~~~~~~~~~~~~~~~~~~~~~vena energy'"
      ]
     },
     "execution_count": 78,
     "metadata": {},
     "output_type": "execute_result"
    }
   ],
   "source": [
    "name.rjust(50,'~')"
   ]
  },
  {
   "cell_type": "code",
   "execution_count": 79,
   "id": "fb83a630",
   "metadata": {},
   "outputs": [],
   "source": [
    "salary='5000000'"
   ]
  },
  {
   "cell_type": "code",
   "execution_count": 80,
   "id": "fd76c31e",
   "metadata": {},
   "outputs": [
    {
     "data": {
      "text/plain": [
       "'0005000000'"
      ]
     },
     "execution_count": 80,
     "metadata": {},
     "output_type": "execute_result"
    }
   ],
   "source": [
    "salary.rjust(10,'0')"
   ]
  },
  {
   "cell_type": "code",
   "execution_count": 81,
   "id": "1e267af6",
   "metadata": {},
   "outputs": [
    {
     "data": {
      "text/plain": [
       "'5000000000'"
      ]
     },
     "execution_count": 81,
     "metadata": {},
     "output_type": "execute_result"
    }
   ],
   "source": [
    "salary.ljust(10,'0')"
   ]
  },
  {
   "cell_type": "code",
   "execution_count": 82,
   "id": "f6c42197",
   "metadata": {},
   "outputs": [
    {
     "data": {
      "text/plain": [
       "'0500000000'"
      ]
     },
     "execution_count": 82,
     "metadata": {},
     "output_type": "execute_result"
    }
   ],
   "source": [
    "salary.center(10,'0')"
   ]
  },
  {
   "cell_type": "code",
   "execution_count": 83,
   "id": "299e2332",
   "metadata": {},
   "outputs": [
    {
     "data": {
      "text/plain": [
       "'0005000000'"
      ]
     },
     "execution_count": 83,
     "metadata": {},
     "output_type": "execute_result"
    }
   ],
   "source": [
    "salary.zfill(10)"
   ]
  },
  {
   "cell_type": "markdown",
   "id": "87ee5660",
   "metadata": {},
   "source": [
    "# replace, split , strip"
   ]
  },
  {
   "cell_type": "code",
   "execution_count": 84,
   "id": "e3f9bbab",
   "metadata": {},
   "outputs": [],
   "source": [
    "info='Raghul Ramesh is from Chennai'"
   ]
  },
  {
   "cell_type": "code",
   "execution_count": 85,
   "id": "3455e9ce",
   "metadata": {},
   "outputs": [
    {
     "data": {
      "text/plain": [
       "'Raghul Ramesh is from Bangalore'"
      ]
     },
     "execution_count": 85,
     "metadata": {},
     "output_type": "execute_result"
    }
   ],
   "source": [
    "info.replace('Chennai','Bangalore')"
   ]
  },
  {
   "cell_type": "code",
   "execution_count": 87,
   "id": "7af6137b",
   "metadata": {},
   "outputs": [
    {
     "data": {
      "text/plain": [
       "'Raghul Ramesh is from Chennai'"
      ]
     },
     "execution_count": 87,
     "metadata": {},
     "output_type": "execute_result"
    }
   ],
   "source": [
    "info.replace('Python','AIML')"
   ]
  },
  {
   "cell_type": "code",
   "execution_count": 88,
   "id": "da2ccd67",
   "metadata": {},
   "outputs": [
    {
     "data": {
      "text/plain": [
       "'Raghul Ramesh is from Chennai'"
      ]
     },
     "execution_count": 88,
     "metadata": {},
     "output_type": "execute_result"
    }
   ],
   "source": [
    "info.replace('chennai','Bangalore')"
   ]
  },
  {
   "cell_type": "code",
   "execution_count": 89,
   "id": "1cc82a5b",
   "metadata": {},
   "outputs": [],
   "source": [
    "tech='Python-AIML-Bigdata-IOT-Cloud-DevOps'"
   ]
  },
  {
   "cell_type": "code",
   "execution_count": 90,
   "id": "3a2d4db8",
   "metadata": {},
   "outputs": [
    {
     "data": {
      "text/plain": [
       "'Python-AIML-Bigdata-IOT-Cloud-DevOps'"
      ]
     },
     "execution_count": 90,
     "metadata": {},
     "output_type": "execute_result"
    }
   ],
   "source": [
    "tech"
   ]
  },
  {
   "cell_type": "code",
   "execution_count": 91,
   "id": "f95cbe60",
   "metadata": {},
   "outputs": [
    {
     "data": {
      "text/plain": [
       "['Python', 'AIML', 'Bigdata', 'IOT', 'Cloud', 'DevOps']"
      ]
     },
     "execution_count": 91,
     "metadata": {},
     "output_type": "execute_result"
    }
   ],
   "source": [
    "tech.split('-')"
   ]
  },
  {
   "cell_type": "markdown",
   "id": "06599070",
   "metadata": {},
   "source": [
    "# strip, lstrip, rstrip"
   ]
  },
  {
   "cell_type": "code",
   "execution_count": 92,
   "id": "8c22dcc1",
   "metadata": {},
   "outputs": [],
   "source": [
    "tech='    Python       '"
   ]
  },
  {
   "cell_type": "code",
   "execution_count": 93,
   "id": "83c77644",
   "metadata": {},
   "outputs": [
    {
     "data": {
      "text/plain": [
       "'    Python       '"
      ]
     },
     "execution_count": 93,
     "metadata": {},
     "output_type": "execute_result"
    }
   ],
   "source": [
    "tech"
   ]
  },
  {
   "cell_type": "code",
   "execution_count": 94,
   "id": "d26afa56",
   "metadata": {},
   "outputs": [
    {
     "data": {
      "text/plain": [
       "'Python'"
      ]
     },
     "execution_count": 94,
     "metadata": {},
     "output_type": "execute_result"
    }
   ],
   "source": [
    "tech.strip()"
   ]
  },
  {
   "cell_type": "code",
   "execution_count": 95,
   "id": "6247af89",
   "metadata": {},
   "outputs": [
    {
     "data": {
      "text/plain": [
       "'Python       '"
      ]
     },
     "execution_count": 95,
     "metadata": {},
     "output_type": "execute_result"
    }
   ],
   "source": [
    "tech.lstrip()"
   ]
  },
  {
   "cell_type": "code",
   "execution_count": 96,
   "id": "15b1e990",
   "metadata": {},
   "outputs": [
    {
     "data": {
      "text/plain": [
       "'    Python'"
      ]
     },
     "execution_count": 96,
     "metadata": {},
     "output_type": "execute_result"
    }
   ],
   "source": [
    "tech.rstrip()"
   ]
  },
  {
   "cell_type": "code",
   "execution_count": null,
   "id": "b5bbb90b",
   "metadata": {},
   "outputs": [],
   "source": []
  }
 ],
 "metadata": {
  "kernelspec": {
   "display_name": "Python 3 (ipykernel)",
   "language": "python",
   "name": "python3"
  },
  "language_info": {
   "codemirror_mode": {
    "name": "ipython",
    "version": 3
   },
   "file_extension": ".py",
   "mimetype": "text/x-python",
   "name": "python",
   "nbconvert_exporter": "python",
   "pygments_lexer": "ipython3",
   "version": "3.8.10"
  }
 },
 "nbformat": 4,
 "nbformat_minor": 5
}
