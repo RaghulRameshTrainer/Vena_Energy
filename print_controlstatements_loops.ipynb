{
 "cells": [
  {
   "cell_type": "markdown",
   "id": "22ab3dcc",
   "metadata": {},
   "source": [
    "# print"
   ]
  },
  {
   "cell_type": "code",
   "execution_count": 1,
   "id": "15326a87",
   "metadata": {},
   "outputs": [
    {
     "name": "stdout",
     "output_type": "stream",
     "text": [
      "Trainer Name : Raghul Ramesh\n"
     ]
    }
   ],
   "source": [
    "name='Raghul Ramesh'\n",
    "location='Chennai'\n",
    "\n",
    "print(\"Trainer Name :\", name)"
   ]
  },
  {
   "cell_type": "code",
   "execution_count": 2,
   "id": "6ad512eb",
   "metadata": {},
   "outputs": [
    {
     "name": "stdout",
     "output_type": "stream",
     "text": [
      "City: Chennai\n"
     ]
    }
   ],
   "source": [
    "print('City:',location)"
   ]
  },
  {
   "cell_type": "code",
   "execution_count": 3,
   "id": "809a6459",
   "metadata": {},
   "outputs": [
    {
     "name": "stdout",
     "output_type": "stream",
     "text": [
      "Trainer name : Raghul Ramesh and he is from Chennai\n"
     ]
    }
   ],
   "source": [
    "print(\"Trainer name : {} and he is from {}\".format(name,location))"
   ]
  },
  {
   "cell_type": "code",
   "execution_count": 5,
   "id": "c2e097ed",
   "metadata": {},
   "outputs": [
    {
     "name": "stdout",
     "output_type": "stream",
     "text": [
      "Trainer name is Raghul Ramesh and he is from Chennai\n"
     ]
    }
   ],
   "source": [
    "print(f\"Trainer name is {name} and he is from {location}\")"
   ]
  },
  {
   "cell_type": "code",
   "execution_count": 6,
   "id": "ba685719",
   "metadata": {},
   "outputs": [
    {
     "name": "stdout",
     "output_type": "stream",
     "text": [
      "The price of Laptop is 75000\n"
     ]
    }
   ],
   "source": [
    "productname='Laptop'\n",
    "amount=75000\n",
    "\n",
    "print(\"The price of {} is {}\".format(productname, amount))"
   ]
  },
  {
   "cell_type": "code",
   "execution_count": 9,
   "id": "c09b535d",
   "metadata": {},
   "outputs": [
    {
     "name": "stdout",
     "output_type": "stream",
     "text": [
      "The price of Laptop is 75000\n"
     ]
    }
   ],
   "source": [
    "print(f\"The price of {productname} is {amount}\")"
   ]
  },
  {
   "cell_type": "markdown",
   "id": "c7f38841",
   "metadata": {},
   "source": [
    "# Control Statement"
   ]
  },
  {
   "cell_type": "code",
   "execution_count": 17,
   "id": "0c32f256",
   "metadata": {},
   "outputs": [
    {
     "name": "stdout",
     "output_type": "stream",
     "text": [
      "X is not 10\n",
      "x:100\n"
     ]
    }
   ],
   "source": [
    "x=100\n",
    "\n",
    "if x == 10:\n",
    "    print(\"x is 10\")\n",
    "    print(\"x:\",x)\n",
    "else:\n",
    "    print(\"X is not 10\")\n",
    "    print(\"x:{}\".format(x))"
   ]
  },
  {
   "cell_type": "code",
   "execution_count": 21,
   "id": "89bf7a78",
   "metadata": {},
   "outputs": [
    {
     "name": "stdout",
     "output_type": "stream",
     "text": [
      "X is not 10\n",
      "x:20\n"
     ]
    }
   ],
   "source": [
    "x=20\n",
    "\n",
    "if x == 10:\n",
    "    print(\"x is 10\")\n",
    "    print(\"x:\",x)\n",
    "elif x == 100:\n",
    "    print(\"Hundered\")\n",
    "elif x == 0:\n",
    "    print(\"ZERO\")\n",
    "else:\n",
    "    print(\"X is not 10\")\n",
    "    print(\"x:{}\".format(x))"
   ]
  },
  {
   "cell_type": "code",
   "execution_count": 22,
   "id": "a07e3d21",
   "metadata": {},
   "outputs": [
    {
     "name": "stdout",
     "output_type": "stream",
     "text": [
      "Enter your contry:India\n"
     ]
    }
   ],
   "source": [
    "country=input(\"Enter your contry:\")"
   ]
  },
  {
   "cell_type": "code",
   "execution_count": 23,
   "id": "26d7d4af",
   "metadata": {},
   "outputs": [
    {
     "data": {
      "text/plain": [
       "'India'"
      ]
     },
     "execution_count": 23,
     "metadata": {},
     "output_type": "execute_result"
    }
   ],
   "source": [
    "country"
   ]
  },
  {
   "cell_type": "code",
   "execution_count": 24,
   "id": "182474a1",
   "metadata": {},
   "outputs": [
    {
     "data": {
      "text/plain": [
       "str"
      ]
     },
     "execution_count": 24,
     "metadata": {},
     "output_type": "execute_result"
    }
   ],
   "source": [
    "type(country)"
   ]
  },
  {
   "cell_type": "code",
   "execution_count": 25,
   "id": "34987769",
   "metadata": {},
   "outputs": [
    {
     "name": "stdout",
     "output_type": "stream",
     "text": [
      "Enter your age:40\n"
     ]
    }
   ],
   "source": [
    "age=input('Enter your age:')"
   ]
  },
  {
   "cell_type": "code",
   "execution_count": 26,
   "id": "388bd75d",
   "metadata": {},
   "outputs": [
    {
     "data": {
      "text/plain": [
       "'40'"
      ]
     },
     "execution_count": 26,
     "metadata": {},
     "output_type": "execute_result"
    }
   ],
   "source": [
    "age"
   ]
  },
  {
   "cell_type": "code",
   "execution_count": 27,
   "id": "3a1445ce",
   "metadata": {},
   "outputs": [
    {
     "data": {
      "text/plain": [
       "str"
      ]
     },
     "execution_count": 27,
     "metadata": {},
     "output_type": "execute_result"
    }
   ],
   "source": [
    "type(age)"
   ]
  },
  {
   "cell_type": "code",
   "execution_count": 28,
   "id": "42ca533d",
   "metadata": {},
   "outputs": [
    {
     "name": "stdout",
     "output_type": "stream",
     "text": [
      "Enter your age:50\n"
     ]
    }
   ],
   "source": [
    "age=int(input('Enter your age:'))"
   ]
  },
  {
   "cell_type": "code",
   "execution_count": 29,
   "id": "55335157",
   "metadata": {},
   "outputs": [
    {
     "data": {
      "text/plain": [
       "50"
      ]
     },
     "execution_count": 29,
     "metadata": {},
     "output_type": "execute_result"
    }
   ],
   "source": [
    "age"
   ]
  },
  {
   "cell_type": "code",
   "execution_count": 30,
   "id": "f9edd867",
   "metadata": {},
   "outputs": [
    {
     "data": {
      "text/plain": [
       "int"
      ]
     },
     "execution_count": 30,
     "metadata": {},
     "output_type": "execute_result"
    }
   ],
   "source": [
    "type(age)"
   ]
  },
  {
   "cell_type": "code",
   "execution_count": 34,
   "id": "e8386d0f",
   "metadata": {},
   "outputs": [
    {
     "name": "stdout",
     "output_type": "stream",
     "text": [
      "Enter your country name:Singapore\n",
      "Enter your age:50\n",
      "Please follow your country : Singapore standards!\n"
     ]
    }
   ],
   "source": [
    "country=input(\"Enter your country name:\")\n",
    "age=int(input(\"Enter your age:\"))\n",
    "\n",
    "if country == \"India\":\n",
    "    if age >= 18:\n",
    "        print(\"You can vote!\")\n",
    "    else:\n",
    "        print(\"Your age is {} which is less than 18, hence you cannot vote\".format(age))\n",
    "else:\n",
    "    print(f\"Please follow your country : {country} standards!\")"
   ]
  },
  {
   "cell_type": "markdown",
   "id": "08d97fbe",
   "metadata": {},
   "source": [
    "# LOOPS"
   ]
  },
  {
   "cell_type": "code",
   "execution_count": 37,
   "id": "90e97932",
   "metadata": {},
   "outputs": [
    {
     "name": "stdout",
     "output_type": "stream",
     "text": [
      "0\n",
      "1\n",
      "2\n",
      "3\n",
      "4\n",
      "5\n",
      "6\n",
      "7\n",
      "8\n",
      "9\n",
      "10\n"
     ]
    }
   ],
   "source": [
    "# while and for loop\n",
    "'''\n",
    "syntax:\n",
    "while condition:\n",
    "    statement\n",
    "'''\n",
    "\n",
    "x=0\n",
    "while x<=10:\n",
    "    print(x)\n",
    "    x=x+1"
   ]
  },
  {
   "cell_type": "code",
   "execution_count": 42,
   "id": "b59b95f5",
   "metadata": {},
   "outputs": [
    {
     "name": "stdout",
     "output_type": "stream",
     "text": [
      "0\n",
      "1\n",
      "2\n",
      "3\n",
      "4\n"
     ]
    }
   ],
   "source": [
    "x=0\n",
    "while x<=10:\n",
    "    if x == 5:\n",
    "        break\n",
    "    print(x)\n",
    "    x=x+1"
   ]
  },
  {
   "cell_type": "code",
   "execution_count": 43,
   "id": "909a8e45",
   "metadata": {},
   "outputs": [
    {
     "name": "stdout",
     "output_type": "stream",
     "text": [
      "1\n",
      "2\n",
      "3\n",
      "4\n",
      "6\n",
      "7\n",
      "8\n",
      "9\n",
      "10\n",
      "11\n"
     ]
    }
   ],
   "source": [
    "x=0\n",
    "while x<=10:\n",
    "    x=x+1\n",
    "    if x == 5:\n",
    "        continue\n",
    "    print(x)\n",
    "    "
   ]
  },
  {
   "cell_type": "code",
   "execution_count": 38,
   "id": "7704b31e",
   "metadata": {},
   "outputs": [],
   "source": [
    "city=['Chennai','Bangalore','Hyderabad','Pune','Mumbai','New Delhi']"
   ]
  },
  {
   "cell_type": "code",
   "execution_count": 39,
   "id": "b1e81574",
   "metadata": {},
   "outputs": [
    {
     "name": "stdout",
     "output_type": "stream",
     "text": [
      "Chennai\n",
      "Bangalore\n",
      "Hyderabad\n",
      "Pune\n",
      "Mumbai\n",
      "New Delhi\n"
     ]
    }
   ],
   "source": [
    "'''\n",
    "for var in collections/sequence:\n",
    "    statements\n",
    "'''\n",
    "\n",
    "for c in city:\n",
    "    print(c)"
   ]
  },
  {
   "cell_type": "markdown",
   "id": "dbdbc524",
   "metadata": {},
   "source": [
    "# Range"
   ]
  },
  {
   "cell_type": "code",
   "execution_count": 40,
   "id": "2b073d12",
   "metadata": {},
   "outputs": [
    {
     "name": "stdout",
     "output_type": "stream",
     "text": [
      "0\n",
      "1\n",
      "2\n",
      "3\n",
      "4\n",
      "5\n",
      "6\n",
      "7\n",
      "8\n",
      "9\n"
     ]
    }
   ],
   "source": [
    "for x in range(10):\n",
    "    print(x)"
   ]
  },
  {
   "cell_type": "code",
   "execution_count": 41,
   "id": "24520f23",
   "metadata": {},
   "outputs": [
    {
     "name": "stdout",
     "output_type": "stream",
     "text": [
      "1\n",
      "2\n",
      "3\n",
      "4\n",
      "5\n",
      "6\n",
      "7\n",
      "8\n",
      "9\n",
      "10\n"
     ]
    }
   ],
   "source": [
    "for x in range(1,11):\n",
    "    print(x)"
   ]
  },
  {
   "cell_type": "code",
   "execution_count": 46,
   "id": "0d7512f6",
   "metadata": {},
   "outputs": [],
   "source": [
    "x=10\n",
    "if x == 0:\n",
    "    print(\"Please asssign some value to x as it is zero\")\n",
    "else:\n",
    "    pass"
   ]
  },
  {
   "cell_type": "code",
   "execution_count": null,
   "id": "ee237f21",
   "metadata": {},
   "outputs": [],
   "source": []
  }
 ],
 "metadata": {
  "kernelspec": {
   "display_name": "Python 3 (ipykernel)",
   "language": "python",
   "name": "python3"
  },
  "language_info": {
   "codemirror_mode": {
    "name": "ipython",
    "version": 3
   },
   "file_extension": ".py",
   "mimetype": "text/x-python",
   "name": "python",
   "nbconvert_exporter": "python",
   "pygments_lexer": "ipython3",
   "version": "3.8.10"
  }
 },
 "nbformat": 4,
 "nbformat_minor": 5
}
