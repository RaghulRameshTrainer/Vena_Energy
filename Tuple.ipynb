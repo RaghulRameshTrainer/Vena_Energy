{
 "cells": [
  {
   "cell_type": "code",
   "execution_count": 1,
   "id": "8e5f136a",
   "metadata": {},
   "outputs": [],
   "source": [
    "mytuple=('India',1947,'Multilingual',34,50050.25)"
   ]
  },
  {
   "cell_type": "code",
   "execution_count": 3,
   "id": "a83f9e1b",
   "metadata": {},
   "outputs": [
    {
     "data": {
      "text/plain": [
       "tuple"
      ]
     },
     "execution_count": 3,
     "metadata": {},
     "output_type": "execute_result"
    }
   ],
   "source": [
    "type(mytuple)"
   ]
  },
  {
   "cell_type": "code",
   "execution_count": 4,
   "id": "2ac2da32",
   "metadata": {},
   "outputs": [],
   "source": [
    "list1=[1,2,3,4,5]"
   ]
  },
  {
   "cell_type": "code",
   "execution_count": 5,
   "id": "27905077",
   "metadata": {},
   "outputs": [
    {
     "name": "stdout",
     "output_type": "stream",
     "text": [
      "['__add__', '__class__', '__contains__', '__delattr__', '__delitem__', '__dir__', '__doc__', '__eq__', '__format__', '__ge__', '__getattribute__', '__getitem__', '__gt__', '__hash__', '__iadd__', '__imul__', '__init__', '__init_subclass__', '__iter__', '__le__', '__len__', '__lt__', '__mul__', '__ne__', '__new__', '__reduce__', '__reduce_ex__', '__repr__', '__reversed__', '__rmul__', '__setattr__', '__setitem__', '__sizeof__', '__str__', '__subclasshook__', 'append', 'clear', 'copy', 'count', 'extend', 'index', 'insert', 'pop', 'remove', 'reverse', 'sort']\n"
     ]
    }
   ],
   "source": [
    "print(dir(list1))"
   ]
  },
  {
   "cell_type": "code",
   "execution_count": 6,
   "id": "56852888",
   "metadata": {},
   "outputs": [
    {
     "name": "stdout",
     "output_type": "stream",
     "text": [
      "['__add__', '__class__', '__contains__', '__delattr__', '__dir__', '__doc__', '__eq__', '__format__', '__ge__', '__getattribute__', '__getitem__', '__getnewargs__', '__gt__', '__hash__', '__init__', '__init_subclass__', '__iter__', '__le__', '__len__', '__lt__', '__mul__', '__ne__', '__new__', '__reduce__', '__reduce_ex__', '__repr__', '__rmul__', '__setattr__', '__sizeof__', '__str__', '__subclasshook__', 'count', 'index']\n"
     ]
    }
   ],
   "source": [
    "print(dir(mytuple))"
   ]
  },
  {
   "cell_type": "code",
   "execution_count": 7,
   "id": "74af2d31",
   "metadata": {},
   "outputs": [
    {
     "data": {
      "text/plain": [
       "1"
      ]
     },
     "execution_count": 7,
     "metadata": {},
     "output_type": "execute_result"
    }
   ],
   "source": [
    "mytuple.index(1947)"
   ]
  },
  {
   "cell_type": "code",
   "execution_count": 8,
   "id": "0b6c95e6",
   "metadata": {},
   "outputs": [
    {
     "data": {
      "text/plain": [
       "1"
      ]
     },
     "execution_count": 8,
     "metadata": {},
     "output_type": "execute_result"
    }
   ],
   "source": [
    "mytuple.count('India')"
   ]
  },
  {
   "cell_type": "code",
   "execution_count": null,
   "id": "d2129c7d",
   "metadata": {},
   "outputs": [],
   "source": [
    "LIST                                                          TUPLE\n",
    "Mutable                                                       Immutable\n",
    "[]                                                            ()\n",
    "List takes more memory than tuple                               less memory\n",
    "List takes more time to process                               takes VERY less time "
   ]
  },
  {
   "cell_type": "code",
   "execution_count": 9,
   "id": "5402939b",
   "metadata": {},
   "outputs": [
    {
     "name": "stdout",
     "output_type": "stream",
     "text": [
      "LIST MEMORY SIZE: 96\n",
      "TUPLE MEMORY SIZE: 80\n"
     ]
    }
   ],
   "source": [
    "import sys\n",
    "\n",
    "l1=[1,2,3,4,5]\n",
    "t1=(1,2,3,4,5)\n",
    "\n",
    "print(\"LIST MEMORY SIZE:\", sys.getsizeof(l1))\n",
    "print(\"TUPLE MEMORY SIZE:\", sys.getsizeof(t1))"
   ]
  },
  {
   "cell_type": "code",
   "execution_count": 10,
   "id": "ca5f272e",
   "metadata": {},
   "outputs": [
    {
     "name": "stdout",
     "output_type": "stream",
     "text": [
      "LIST TOOK :  187.54329999990205\n",
      "TUPLE TOOK :  18.464400000084424\n"
     ]
    }
   ],
   "source": [
    "import timeit\n",
    "\n",
    "print(\"LIST TOOK : \", timeit.timeit(stmt=\"[1,2,3,4,5,6,7,8,9,10]\", number=1000000)*1000)\n",
    "print(\"TUPLE TOOK : \", timeit.timeit(stmt=\"(1,2,3,4,5,6,7,8,9,10)\", number=1000000)*1000)"
   ]
  },
  {
   "cell_type": "markdown",
   "id": "45128402",
   "metadata": {},
   "source": [
    "# LIST COMPREHENSION"
   ]
  },
  {
   "cell_type": "code",
   "execution_count": null,
   "id": "3fee7fb1",
   "metadata": {},
   "outputs": [],
   "source": [
    "syntax:\n",
    "    \n",
    "    [ expr for val in collections ]\n",
    "    [ expr for val in collections if cond ]\n",
    "    [ expr for val in collections if cond  and /or cond2 ]\n",
    "    [ expr for val1 in collections1 for val2 in collections2 ]"
   ]
  },
  {
   "cell_type": "code",
   "execution_count": 11,
   "id": "f3117780",
   "metadata": {},
   "outputs": [
    {
     "data": {
      "text/plain": [
       "[1, 4, 9, 16, 25, 36, 49, 64, 81, 100]"
      ]
     },
     "execution_count": 11,
     "metadata": {},
     "output_type": "execute_result"
    }
   ],
   "source": [
    "[ x**2  for x in range(1,11)]"
   ]
  },
  {
   "cell_type": "code",
   "execution_count": 13,
   "id": "c049a713",
   "metadata": {},
   "outputs": [
    {
     "name": "stdout",
     "output_type": "stream",
     "text": [
      "[5, 10, 15, 20, 25, 30, 35, 40, 45, 50, 55, 60, 65, 70, 75, 80, 85, 90, 95, 100]\n"
     ]
    }
   ],
   "source": [
    "print([ x for x in range(1,101) if x%5==0 ])"
   ]
  },
  {
   "cell_type": "code",
   "execution_count": 15,
   "id": "4d3fd9df",
   "metadata": {},
   "outputs": [
    {
     "name": "stdout",
     "output_type": "stream",
     "text": [
      "[15, 30, 45, 60, 75, 90]\n"
     ]
    }
   ],
   "source": [
    "print([ x for x in range(1,101) if x%5==0 and x%3==0 ])"
   ]
  },
  {
   "cell_type": "code",
   "execution_count": 20,
   "id": "dfc0b897",
   "metadata": {},
   "outputs": [
    {
     "data": {
      "text/plain": [
       "[(1, 6),\n",
       " (1, 7),\n",
       " (1, 8),\n",
       " (1, 9),\n",
       " (1, 10),\n",
       " (2, 6),\n",
       " (2, 7),\n",
       " (2, 8),\n",
       " (2, 9),\n",
       " (2, 10),\n",
       " (3, 6),\n",
       " (3, 7),\n",
       " (3, 8),\n",
       " (3, 9),\n",
       " (3, 10),\n",
       " (4, 6),\n",
       " (4, 7),\n",
       " (4, 8),\n",
       " (4, 9),\n",
       " (4, 10),\n",
       " (5, 6),\n",
       " (5, 7),\n",
       " (5, 8),\n",
       " (5, 9),\n",
       " (5, 10),\n",
       " (6, 6),\n",
       " (6, 7),\n",
       " (6, 8),\n",
       " (6, 9),\n",
       " (6, 10)]"
      ]
     },
     "execution_count": 20,
     "metadata": {},
     "output_type": "execute_result"
    }
   ],
   "source": [
    "x=[1,2,3,4,5]\n",
    "y=[6,7,8,9,10]\n",
    "\n",
    "[ (a,b) for a in x for b in y]"
   ]
  },
  {
   "cell_type": "code",
   "execution_count": 21,
   "id": "77412c4b",
   "metadata": {},
   "outputs": [
    {
     "data": {
      "text/plain": [
       "[7, 9, 11, 13, 15]"
      ]
     },
     "execution_count": 21,
     "metadata": {},
     "output_type": "execute_result"
    }
   ],
   "source": [
    "x=[1,2,3,4,5]\n",
    "y=[6,7,8,9,10]\n",
    "\n",
    "[ i+j for i,j in zip(x,y)]"
   ]
  },
  {
   "cell_type": "code",
   "execution_count": null,
   "id": "645f6642",
   "metadata": {},
   "outputs": [],
   "source": []
  }
 ],
 "metadata": {
  "kernelspec": {
   "display_name": "Python 3 (ipykernel)",
   "language": "python",
   "name": "python3"
  },
  "language_info": {
   "codemirror_mode": {
    "name": "ipython",
    "version": 3
   },
   "file_extension": ".py",
   "mimetype": "text/x-python",
   "name": "python",
   "nbconvert_exporter": "python",
   "pygments_lexer": "ipython3",
   "version": "3.8.10"
  }
 },
 "nbformat": 4,
 "nbformat_minor": 5
}
